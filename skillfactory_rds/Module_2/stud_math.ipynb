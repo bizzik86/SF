{
 "cells": [
  {
   "cell_type": "code",
   "execution_count": 500,
   "metadata": {
    "collapsed": true
   },
   "outputs": [
    {
     "data": {
      "text/plain": [
       "'\\nВ рамках проекта необходимо отследить влияние условий жизни учащихся в возрасте от 15 до 22 лет \\nна их успеваемость по математике, чтобы на ранней стадии выявлять студентов, находящихся в группе риска.\\n\\nДля этого необходимо:\\n- проведите первичную обработку данных\\n- устанить некооректные данные и выбросы\\n- провести корреляционный анализ количественных переменных и отобрать не коррелирующие\\n- проанализировать качественные переменные и оставить только те, которые влияют на оценку\\n'"
      ]
     },
     "execution_count": 500,
     "metadata": {},
     "output_type": "execute_result"
    }
   ],
   "source": [
    "\"\"\"\n",
    "В рамках проекта необходимо отследить влияние условий жизни учащихся в возрасте от 15 до 22 лет \n",
    "на их успеваемость по математике, чтобы на ранней стадии выявлять студентов, находящихся в группе риска.\n",
    "\n",
    "Для этого необходимо:\n",
    "- проведите первичную обработку данных\n",
    "- устанить некооректные данные и выбросы\n",
    "- провести корреляционный анализ количественных переменных и отобрать не коррелирующие\n",
    "- проанализировать качественные переменные и оставить только те, которые влияют на оценку\n",
    "\"\"\""
   ]
  },
  {
   "cell_type": "code",
   "execution_count": 755,
   "metadata": {},
   "outputs": [],
   "source": [
    "import pandas as pd\n",
    "import matplotlib.pyplot as plt\n",
    "import seaborn as sns\n",
    "from itertools import combinations\n",
    "from scipy.stats import ttest_ind\n",
    "import random as rnd\n",
    "\n",
    "pd.set_option('display.max_rows', 50)  # показывать больше строк\n",
    "pd.set_option('display.max_columns', 50)  # показывать больше колонок\n",
    "\n",
    "stud_math = pd.read_csv('F:\\\\stud_math.csv')\n",
    "\n",
    "# процент значений моды в общем не пустом наборе, при котором пустые значения заменям модой\n",
    "mode_percent_nan = 65"
   ]
  },
  {
   "cell_type": "code",
   "execution_count": 756,
   "metadata": {},
   "outputs": [],
   "source": [
    "import warnings\n",
    "from pandas.core.common import SettingWithCopyWarning\n",
    "warnings.simplefilter(action=\"ignore\", category=SettingWithCopyWarning)"
   ]
  },
  {
   "cell_type": "code",
   "execution_count": 757,
   "metadata": {},
   "outputs": [
    {
     "name": "stdout",
     "output_type": "stream",
     "text": [
      "<class 'pandas.core.frame.DataFrame'>\n",
      "RangeIndex: 395 entries, 0 to 394\n",
      "Data columns (total 30 columns):\n",
      " #   Column               Non-Null Count  Dtype  \n",
      "---  ------               --------------  -----  \n",
      " 0   school               395 non-null    object \n",
      " 1   sex                  395 non-null    object \n",
      " 2   age                  395 non-null    int64  \n",
      " 3   address              378 non-null    object \n",
      " 4   famsize              368 non-null    object \n",
      " 5   Pstatus              350 non-null    object \n",
      " 6   Medu                 392 non-null    float64\n",
      " 7   Fedu                 371 non-null    float64\n",
      " 8   Mjob                 376 non-null    object \n",
      " 9   Fjob                 359 non-null    object \n",
      " 10  reason               378 non-null    object \n",
      " 11  guardian             364 non-null    object \n",
      " 12  traveltime           367 non-null    float64\n",
      " 13  studytime            388 non-null    float64\n",
      " 14  failures             373 non-null    float64\n",
      " 15  schoolsup            386 non-null    object \n",
      " 16  famsup               356 non-null    object \n",
      " 17  paid                 355 non-null    object \n",
      " 18  activities           381 non-null    object \n",
      " 19  nursery              379 non-null    object \n",
      " 20  studytime, granular  388 non-null    float64\n",
      " 21  higher               375 non-null    object \n",
      " 22  internet             361 non-null    object \n",
      " 23  romantic             364 non-null    object \n",
      " 24  famrel               368 non-null    float64\n",
      " 25  freetime             384 non-null    float64\n",
      " 26  goout                387 non-null    float64\n",
      " 27  health               380 non-null    float64\n",
      " 28  absences             383 non-null    float64\n",
      " 29  score                389 non-null    float64\n",
      "dtypes: float64(12), int64(1), object(17)\n",
      "memory usage: 92.7+ KB\n"
     ]
    }
   ],
   "source": [
    "stud_math.info()"
   ]
  },
  {
   "cell_type": "code",
   "execution_count": 758,
   "metadata": {},
   "outputs": [],
   "source": [
    "# сразу удаляем строки у которых 10% значений и более не заполнены (считаю, что вся строка в таком случае неиформативна).\n",
    "stud_math = stud_math.dropna(thresh=27)"
   ]
  },
  {
   "cell_type": "code",
   "execution_count": 759,
   "metadata": {},
   "outputs": [
    {
     "name": "stdout",
     "output_type": "stream",
     "text": [
      "<class 'pandas.core.frame.DataFrame'>\n",
      "Int64Index: 373 entries, 0 to 394\n",
      "Data columns (total 30 columns):\n",
      " #   Column               Non-Null Count  Dtype  \n",
      "---  ------               --------------  -----  \n",
      " 0   school               373 non-null    object \n",
      " 1   sex                  373 non-null    object \n",
      " 2   age                  373 non-null    int64  \n",
      " 3   address              358 non-null    object \n",
      " 4   famsize              351 non-null    object \n",
      " 5   Pstatus              337 non-null    object \n",
      " 6   Medu                 371 non-null    float64\n",
      " 7   Fedu                 353 non-null    float64\n",
      " 8   Mjob                 357 non-null    object \n",
      " 9   Fjob                 346 non-null    object \n",
      " 10  reason               358 non-null    object \n",
      " 11  guardian             343 non-null    object \n",
      " 12  traveltime           352 non-null    float64\n",
      " 13  studytime            371 non-null    float64\n",
      " 14  failures             356 non-null    float64\n",
      " 15  schoolsup            364 non-null    object \n",
      " 16  famsup               340 non-null    object \n",
      " 17  paid                 340 non-null    object \n",
      " 18  activities           362 non-null    object \n",
      " 19  nursery              357 non-null    object \n",
      " 20  studytime, granular  371 non-null    float64\n",
      " 21  higher               355 non-null    object \n",
      " 22  internet             342 non-null    object \n",
      " 23  romantic             350 non-null    object \n",
      " 24  famrel               350 non-null    float64\n",
      " 25  freetime             364 non-null    float64\n",
      " 26  goout                365 non-null    float64\n",
      " 27  health               360 non-null    float64\n",
      " 28  absences             363 non-null    float64\n",
      " 29  score                367 non-null    float64\n",
      "dtypes: float64(12), int64(1), object(17)\n",
      "memory usage: 90.3+ KB\n"
     ]
    }
   ],
   "source": [
    "stud_math.info()"
   ]
  },
  {
   "cell_type": "code",
   "execution_count": 760,
   "metadata": {},
   "outputs": [],
   "source": [
    "# также сразу удаляем строки без оценки\n",
    "stud_math = stud_math[pd.notnull(stud_math.score)]"
   ]
  },
  {
   "cell_type": "code",
   "execution_count": 761,
   "metadata": {},
   "outputs": [
    {
     "name": "stdout",
     "output_type": "stream",
     "text": [
      "<class 'pandas.core.frame.DataFrame'>\n",
      "Int64Index: 367 entries, 0 to 394\n",
      "Data columns (total 30 columns):\n",
      " #   Column               Non-Null Count  Dtype  \n",
      "---  ------               --------------  -----  \n",
      " 0   school               367 non-null    object \n",
      " 1   sex                  367 non-null    object \n",
      " 2   age                  367 non-null    int64  \n",
      " 3   address              354 non-null    object \n",
      " 4   famsize              345 non-null    object \n",
      " 5   Pstatus              331 non-null    object \n",
      " 6   Medu                 365 non-null    float64\n",
      " 7   Fedu                 347 non-null    float64\n",
      " 8   Mjob                 351 non-null    object \n",
      " 9   Fjob                 340 non-null    object \n",
      " 10  reason               352 non-null    object \n",
      " 11  guardian             337 non-null    object \n",
      " 12  traveltime           346 non-null    float64\n",
      " 13  studytime            365 non-null    float64\n",
      " 14  failures             350 non-null    float64\n",
      " 15  schoolsup            358 non-null    object \n",
      " 16  famsup               335 non-null    object \n",
      " 17  paid                 335 non-null    object \n",
      " 18  activities           356 non-null    object \n",
      " 19  nursery              352 non-null    object \n",
      " 20  studytime, granular  365 non-null    float64\n",
      " 21  higher               349 non-null    object \n",
      " 22  internet             336 non-null    object \n",
      " 23  romantic             344 non-null    object \n",
      " 24  famrel               344 non-null    float64\n",
      " 25  freetime             360 non-null    float64\n",
      " 26  goout                360 non-null    float64\n",
      " 27  health               354 non-null    float64\n",
      " 28  absences             358 non-null    float64\n",
      " 29  score                367 non-null    float64\n",
      "dtypes: float64(12), int64(1), object(17)\n",
      "memory usage: 88.9+ KB\n"
     ]
    }
   ],
   "source": [
    "stud_math.info()"
   ]
  },
  {
   "cell_type": "code",
   "execution_count": 762,
   "metadata": {},
   "outputs": [],
   "source": [
    "# переименовываем поля для удобства\n",
    "stud_math.columns = ['school', 'sex', 'age', 'address', 'family_size', 'parent_status',\n",
    "                     'mother_education', 'father_education', 'mother_job', 'father_job',\n",
    "                     'reason', 'guardian', 'travel_time', 'study_time', 'failures', 'school_support',\n",
    "                     'family_support', 'paid', 'activities', 'nursery', 'study_time_granular', 'higher',\n",
    "                     'internet', 'romantic', 'family_relation', 'free_time', 'go_out', 'health', 'absences', 'score'\n",
    "                     ]"
   ]
  },
  {
   "cell_type": "code",
   "execution_count": 763,
   "metadata": {},
   "outputs": [],
   "source": [
    "# -----------------------------------------------------------\n",
    "# Функция для получения информации по Daraframe.Series\n",
    "# cur_column - Daraframe.Series\n",
    "# corr_values - корректные значений, [] - если нет точных границ корректных значений\n",
    "# add_info - 1 выводить для числовых данных информацию о статистических показателях, 0 - нет\n",
    "# -----------------------------------------------------------\n",
    "def column_info(cur_column, corr_values, add_info):\n",
    "    count_nan = pd.isnull(cur_column).sum()\n",
    "    count_not_nan = pd.notnull(cur_column).sum()\n",
    "    len_corr_values = len(corr_values)\n",
    "    bin_hist = cur_column.nunique()\n",
    "    print(\"Количество уникальных значений:\", cur_column.nunique())\n",
    "    display(cur_column.value_counts())\n",
    "    # выводим некорректные значения, пустые сюда не выводим\n",
    "    if (len_corr_values != 0 and cur_column[~cur_column.isin(corr_values)][~pd.isnull(cur_column)].count() > 0):\n",
    "        print(\"Некорректные значения:\", \"\\n\", cur_column[~cur_column.isin(\n",
    "            corr_values)][~pd.isnull(cur_column)])\n",
    "    else:\n",
    "        print(\"Некорректных значений нет\")\n",
    "    if cur_column.dtype in ('float64', 'int64'):\n",
    "        cur_column.hist(bins=bin_hist)\n",
    "        cur_column.describe()\n",
    "        if add_info == 1:\n",
    "            median = cur_column.median()\n",
    "            print(\"Медиана:\", median)\n",
    "            mean = cur_column.mean()\n",
    "            print(\"Среднее арифметическое:\", mean)\n",
    "            mode = cur_column.mode()[0]\n",
    "            print(\"Мода:\", mode)\n",
    "            IQR = cur_column.quantile(0.75) - cur_column.quantile(0.25)\n",
    "            perc25 = cur_column.quantile(0.25)\n",
    "            perc75 = cur_column.quantile(0.75)\n",
    "            print('25-й перцентиль: {},'.format(perc25), '75-й перцентиль: {},'.format(perc75), \"IQR: {}, \"\n",
    "                  .format(IQR), \"Границы выбросов: [{f}, {l}].\".format(f=perc25 - 1.5*IQR, l=perc75 + 1.5*IQR)\n",
    "                  )\n",
    "            if cur_column[~cur_column.between(perc25 - 1.5*IQR, perc75 + 1.5*IQR)][~pd.isnull(cur_column)].count() > 0:\n",
    "                print(\"Есть выбросы:\", \"\\n\", cur_column[~cur_column.between(\n",
    "                    perc25 - 1.5*IQR, perc75 + 1.5*IQR)][~pd.isnull(cur_column)])\n",
    "    if count_nan == 0:\n",
    "        print(\"Отсутствующих значений(NaN) нет\")\n",
    "    else:\n",
    "        print(\"Отсутствующих значений(NaN):\", count_nan)\n",
    "        mode = cur_column.mode()[0]\n",
    "        mode_count = cur_column[cur_column == mode].count()\n",
    "        mode_percent = round(mode_count / count_not_nan * 100)\n",
    "        print(\"Мода:\", mode, \" , \", mode_percent, \"% от непустых значений\")\n",
    "        if len_corr_values != 0:\n",
    "            # Будем заполнять модой если значений моды в процентом соотношении больше mode_percent_nan (установил = 65)\n",
    "            if mode_percent >= mode_percent_nan:\n",
    "                print(\"Заменяем пустые значениями моды\")\n",
    "            else:  # иначе заполним случайными значениями из корректных\n",
    "                print(\"Заменяем пустые случайными значениями из корректных\")"
   ]
  },
  {
   "cell_type": "code",
   "execution_count": 764,
   "metadata": {},
   "outputs": [],
   "source": [
    "# Функция заполнения пустого Daraframe.Series модой\n",
    "def fill_column_mode(column):\n",
    "    column.fillna(column.mode()[0], inplace=True)"
   ]
  },
  {
   "cell_type": "code",
   "execution_count": 765,
   "metadata": {},
   "outputs": [],
   "source": [
    "# Функция заполнения пустого случайным значением из списка корректных\n",
    "def fill_column_random(cur_column, corr_values):\n",
    "    for i in cur_column[pd.isnull(cur_column)].index:\n",
    "        cur_column[i] = rnd.choice(corr_values)"
   ]
  },
  {
   "cell_type": "code",
   "execution_count": 766,
   "metadata": {},
   "outputs": [],
   "source": [
    "# Функция построения графиков boxplot\n",
    "def get_boxplot(column):\n",
    "    fig, ax = plt.subplots(figsize=(14, 4))\n",
    "    sns.boxplot(x=column, y='score',\n",
    "                data=stud_math,\n",
    "                ax=ax)\n",
    "    plt.xticks(rotation=45)\n",
    "    ax.set_title('Boxplot for ' + column)\n",
    "    plt.show()"
   ]
  },
  {
   "cell_type": "code",
   "execution_count": 767,
   "metadata": {},
   "outputs": [],
   "source": [
    "# Функция нахождения статистически значимых различий\n",
    "def get_stat_dif(column):\n",
    "    cols = stud_math.loc[:, column].value_counts().index\n",
    "    combinations_all = list(combinations(cols, 2))\n",
    "    for comb in combinations_all:\n",
    "        if ttest_ind(stud_math.loc[stud_math.loc[:, column] == comb[0], 'score'],\n",
    "                     stud_math.loc[stud_math.loc[:, column] == comb[1], 'score']).pvalue \\\n",
    "                <= 0.05/len(combinations_all):  # Учли поправку Бонферони\n",
    "            print('Найдены статистически значимые различия для колонки', column)\n",
    "            break"
   ]
  },
  {
   "cell_type": "code",
   "execution_count": 768,
   "metadata": {},
   "outputs": [],
   "source": [
    "# -----------------------------------------------------------\n",
    "# инициализация корректных значений полей, пусто если значения не ограничены\n",
    "# -----------------------------------------------------------\n",
    "yes_no = ['yes', 'no']  # чтобы не дублировать 'yes','no'\n",
    "school_corr_values = []\n",
    "sex_corr_values = ['F', 'M']\n",
    "age_corr_values = [*range(15, 23)]\n",
    "address_corr_values = ['U', 'R']\n",
    "family_size_corr_values = ['LE3', 'GT3']\n",
    "parent_status_corr_values = ['T', 'A']\n",
    "mother_education_corr_values = [*range(0, 5)]\n",
    "father_education_corr_values = [*range(0, 5)]\n",
    "mother_job_corr_values = ['teacher', 'health', 'services', 'at_home', 'other']\n",
    "father_job_corr_values = ['teacher', 'health', 'services', 'at_home', 'other']\n",
    "reason_corr_values = ['home', 'reputation', 'course', 'other']\n",
    "guardian_corr_values = ['mother', 'father', 'other']\n",
    "travel_time_corr_values = [*range(1, 5)]\n",
    "study_time_corr_values = [*range(1, 5)]\n",
    "failures_corr_values = [*range(0, 4)]\n",
    "school_support_corr_values = yes_no\n",
    "family_support_corr_values = yes_no\n",
    "paid_corr_values = yes_no\n",
    "activities_corr_values = yes_no\n",
    "nursery_corr_values = yes_no\n",
    "study_time_granular_corr_values = []\n",
    "higher_corr_values = yes_no\n",
    "internet_corr_values = yes_no\n",
    "romantic_corr_values = yes_no\n",
    "family_relation_corr_values = [*range(1, 6)]\n",
    "free_time_corr_values = [*range(1, 6)]\n",
    "go_out_corr_values = [*range(1, 6)]\n",
    "health_corr_values = [*range(1, 6)]\n",
    "absences_corr_values = []\n",
    "score_corr_values = [*range(0, 101)]"
   ]
  },
  {
   "cell_type": "code",
   "execution_count": 769,
   "metadata": {},
   "outputs": [],
   "source": [
    "# обработаем пустые значения и выбросы"
   ]
  },
  {
   "cell_type": "code",
   "execution_count": 770,
   "metadata": {},
   "outputs": [
    {
     "name": "stdout",
     "output_type": "stream",
     "text": [
      "Количество уникальных значений: 2\n"
     ]
    },
    {
     "data": {
      "text/plain": [
       "GP    324\n",
       "MS     43\n",
       "Name: school, dtype: int64"
      ]
     },
     "metadata": {},
     "output_type": "display_data"
    },
    {
     "name": "stdout",
     "output_type": "stream",
     "text": [
      "Некорректных значений нет\n",
      "Отсутствующих значений(NaN) нет\n"
     ]
    }
   ],
   "source": [
    "column_info(stud_math.school, school_corr_values, 0)"
   ]
  },
  {
   "cell_type": "code",
   "execution_count": 771,
   "metadata": {},
   "outputs": [
    {
     "name": "stdout",
     "output_type": "stream",
     "text": [
      "Количество уникальных значений: 2\n"
     ]
    },
    {
     "data": {
      "text/plain": [
       "F    196\n",
       "M    171\n",
       "Name: sex, dtype: int64"
      ]
     },
     "metadata": {},
     "output_type": "display_data"
    },
    {
     "name": "stdout",
     "output_type": "stream",
     "text": [
      "Некорректных значений нет\n",
      "Отсутствующих значений(NaN) нет\n"
     ]
    }
   ],
   "source": [
    "column_info(stud_math.sex, sex_corr_values, 0)"
   ]
  },
  {
   "cell_type": "code",
   "execution_count": 772,
   "metadata": {},
   "outputs": [
    {
     "name": "stdout",
     "output_type": "stream",
     "text": [
      "Количество уникальных значений: 8\n"
     ]
    },
    {
     "data": {
      "text/plain": [
       "16    98\n",
       "17    91\n",
       "15    77\n",
       "18    76\n",
       "19    20\n",
       "20     3\n",
       "22     1\n",
       "21     1\n",
       "Name: age, dtype: int64"
      ]
     },
     "metadata": {},
     "output_type": "display_data"
    },
    {
     "name": "stdout",
     "output_type": "stream",
     "text": [
      "Некорректных значений нет\n",
      "Медиана: 17.0\n",
      "Среднее арифметическое: 16.678474114441418\n",
      "Мода: 16\n",
      "25-й перцентиль: 16.0, 75-й перцентиль: 18.0, IQR: 2.0,  Границы выбросов: [13.0, 21.0].\n",
      "Есть выбросы: \n",
      " 247    22\n",
      "Name: age, dtype: int64\n",
      "Отсутствующих значений(NaN) нет\n"
     ]
    },
    {
     "data": {
      "image/png": "[encoded data removed]",
      "text/plain": [
       "<Figure size 432x288 with 1 Axes>"
      ]
     },
     "metadata": {
      "needs_background": "light"
     },
     "output_type": "display_data"
    }
   ],
   "source": [
    "column_info(stud_math.age, age_corr_values, 1)"
   ]
  },
  {
   "cell_type": "code",
   "execution_count": 773,
   "metadata": {},
   "outputs": [],
   "source": [
    "# не будем удалять строку с возрастом 22, т.к. изначально это исследование для лиц от 15 до 22 лет\n",
    "# + если сделать допустимый предел чуть больше 1.5 межквартильных размаха, то значение попадет"
   ]
  },
  {
   "cell_type": "code",
   "execution_count": 774,
   "metadata": {},
   "outputs": [
    {
     "name": "stdout",
     "output_type": "stream",
     "text": [
      "Количество уникальных значений: 2\n"
     ]
    },
    {
     "data": {
      "text/plain": [
       "U    276\n",
       "R     78\n",
       "Name: address, dtype: int64"
      ]
     },
     "metadata": {},
     "output_type": "display_data"
    },
    {
     "name": "stdout",
     "output_type": "stream",
     "text": [
      "Некорректных значений нет\n",
      "Отсутствующих значений(NaN): 13\n",
      "Мода: U  ,  78.0 % от непустых значений\n",
      "Заменяем пустые значениями моды\n"
     ]
    }
   ],
   "source": [
    "column_info(stud_math.address, address_corr_values, 0)"
   ]
  },
  {
   "cell_type": "code",
   "execution_count": 775,
   "metadata": {},
   "outputs": [
    {
     "name": "stdout",
     "output_type": "stream",
     "text": [
      "Количество уникальных значений: 2\n"
     ]
    },
    {
     "data": {
      "text/plain": [
       "U    289\n",
       "R     78\n",
       "Name: address, dtype: int64"
      ]
     },
     "metadata": {},
     "output_type": "display_data"
    },
    {
     "name": "stdout",
     "output_type": "stream",
     "text": [
      "Некорректных значений нет\n",
      "Отсутствующих значений(NaN) нет\n"
     ]
    }
   ],
   "source": [
    "# заполняем пустые значения\n",
    "# предполагаю, что школа находится в городе => из за города дольше добираться\n",
    "stud_math.loc[((stud_math.address.isnull()) & (\n",
    "    stud_math.travel_time > 2)), 'address'] = 'R'\n",
    "stud_math.loc[((stud_math.address.isnull()) & (\n",
    "    stud_math.travel_time <= 2)), 'address'] = 'U'\n",
    "# если пустой и travel_time, то заполняем модой\n",
    "fill_column_mode(stud_math.address)\n",
    "column_info(stud_math.address, address_corr_values, 0)"
   ]
  },
  {
   "cell_type": "code",
   "execution_count": 776,
   "metadata": {},
   "outputs": [
    {
     "name": "stdout",
     "output_type": "stream",
     "text": [
      "Количество уникальных значений: 2\n"
     ]
    },
    {
     "data": {
      "text/plain": [
       "GT3    244\n",
       "LE3    101\n",
       "Name: family_size, dtype: int64"
      ]
     },
     "metadata": {},
     "output_type": "display_data"
    },
    {
     "name": "stdout",
     "output_type": "stream",
     "text": [
      "Некорректных значений нет\n",
      "Отсутствующих значений(NaN): 22\n",
      "Мода: GT3  ,  71.0 % от непустых значений\n",
      "Заменяем пустые значениями моды\n"
     ]
    }
   ],
   "source": [
    "column_info(stud_math.family_size, family_size_corr_values, 0)"
   ]
  },
  {
   "cell_type": "code",
   "execution_count": 777,
   "metadata": {},
   "outputs": [
    {
     "name": "stdout",
     "output_type": "stream",
     "text": [
      "Количество уникальных значений: 2\n"
     ]
    },
    {
     "data": {
      "text/plain": [
       "GT3    266\n",
       "LE3    101\n",
       "Name: family_size, dtype: int64"
      ]
     },
     "metadata": {},
     "output_type": "display_data"
    },
    {
     "name": "stdout",
     "output_type": "stream",
     "text": [
      "Некорректных значений нет\n",
      "Отсутствующих значений(NaN) нет\n"
     ]
    }
   ],
   "source": [
    "# заполняем пустые значения\n",
    "fill_column_mode(stud_math.family_size)\n",
    "column_info(stud_math.family_size, family_size_corr_values, 0)"
   ]
  },
  {
   "cell_type": "code",
   "execution_count": 778,
   "metadata": {},
   "outputs": [
    {
     "name": "stdout",
     "output_type": "stream",
     "text": [
      "Количество уникальных значений: 2\n"
     ]
    },
    {
     "data": {
      "text/plain": [
       "T    297\n",
       "A     34\n",
       "Name: parent_status, dtype: int64"
      ]
     },
     "metadata": {},
     "output_type": "display_data"
    },
    {
     "name": "stdout",
     "output_type": "stream",
     "text": [
      "Некорректных значений нет\n",
      "Отсутствующих значений(NaN): 36\n",
      "Мода: T  ,  90.0 % от непустых значений\n",
      "Заменяем пустые значениями моды\n"
     ]
    }
   ],
   "source": [
    "column_info(stud_math.parent_status, parent_status_corr_values, 0)"
   ]
  },
  {
   "cell_type": "code",
   "execution_count": 779,
   "metadata": {},
   "outputs": [
    {
     "name": "stdout",
     "output_type": "stream",
     "text": [
      "Количество уникальных значений: 2\n"
     ]
    },
    {
     "data": {
      "text/plain": [
       "T    333\n",
       "A     34\n",
       "Name: parent_status, dtype: int64"
      ]
     },
     "metadata": {},
     "output_type": "display_data"
    },
    {
     "name": "stdout",
     "output_type": "stream",
     "text": [
      "Некорректных значений нет\n",
      "Отсутствующих значений(NaN) нет\n"
     ]
    }
   ],
   "source": [
    "# в среднем в семье 2 ребенка => если  family_size > 3, то 'T' - родители живут вместе\n",
    "stud_math.loc[((stud_math['parent_status'].isnull()) & (\n",
    "    stud_math['family_size'] == 'GT3')), 'parent_status'] = 'T'\n",
    "# остальные заполним модой, в данном случае мода тоже = 'T'(но на другом наборе может и отличаться)\n",
    "fill_column_mode(stud_math.parent_status)\n",
    "column_info(stud_math.parent_status, parent_status_corr_values, 0)"
   ]
  },
  {
   "cell_type": "code",
   "execution_count": 780,
   "metadata": {},
   "outputs": [
    {
     "name": "stdout",
     "output_type": "stream",
     "text": [
      "Количество уникальных значений: 5\n"
     ]
    },
    {
     "data": {
      "text/plain": [
       "4.0    123\n",
       "2.0     92\n",
       "3.0     92\n",
       "1.0     55\n",
       "0.0      3\n",
       "Name: mother_education, dtype: int64"
      ]
     },
     "metadata": {},
     "output_type": "display_data"
    },
    {
     "name": "stdout",
     "output_type": "stream",
     "text": [
      "Некорректных значений нет\n",
      "Отсутствующих значений(NaN): 2\n",
      "Мода: 4.0  ,  34.0 % от непустых значений\n",
      "Заменяем пустые случайными значениями из корректных\n"
     ]
    },
    {
     "data": {
      "image/png": "[encoded data removed]",
      "text/plain": [
       "<Figure size 432x288 with 1 Axes>"
      ]
     },
     "metadata": {
      "needs_background": "light"
     },
     "output_type": "display_data"
    }
   ],
   "source": [
    "column_info(stud_math.mother_education, mother_education_corr_values, 0)"
   ]
  },
  {
   "cell_type": "code",
   "execution_count": 781,
   "metadata": {},
   "outputs": [
    {
     "name": "stdout",
     "output_type": "stream",
     "text": [
      "Количество уникальных значений: 5\n"
     ]
    },
    {
     "data": {
      "text/plain": [
       "4.0    123\n",
       "2.0     93\n",
       "3.0     92\n",
       "1.0     55\n",
       "0.0      4\n",
       "Name: mother_education, dtype: int64"
      ]
     },
     "metadata": {},
     "output_type": "display_data"
    },
    {
     "name": "stdout",
     "output_type": "stream",
     "text": [
      "Некорректных значений нет\n",
      "Отсутствующих значений(NaN) нет\n"
     ]
    },
    {
     "data": {
      "image/png": "[encoded data removed]",
      "text/plain": [
       "<Figure size 432x288 with 1 Axes>"
      ]
     },
     "metadata": {
      "needs_background": "light"
     },
     "output_type": "display_data"
    }
   ],
   "source": [
    "# Заменяем пустые случайными значениями из корректных\n",
    "fill_column_random(stud_math.mother_education, mother_education_corr_values)\n",
    "column_info(stud_math.mother_education, mother_education_corr_values, 0)"
   ]
  },
  {
   "cell_type": "code",
   "execution_count": 782,
   "metadata": {},
   "outputs": [
    {
     "name": "stdout",
     "output_type": "stream",
     "text": [
      "Количество уникальных значений: 6\n"
     ]
    },
    {
     "data": {
      "text/plain": [
       "2.0     95\n",
       "3.0     89\n",
       "4.0     87\n",
       "1.0     73\n",
       "0.0      2\n",
       "40.0     1\n",
       "Name: father_education, dtype: int64"
      ]
     },
     "metadata": {},
     "output_type": "display_data"
    },
    {
     "name": "stdout",
     "output_type": "stream",
     "text": [
      "Некорректные значения: \n",
      " 11    40.0\n",
      "Name: father_education, dtype: float64\n",
      "Отсутствующих значений(NaN): 20\n",
      "Мода: 2.0  ,  27.0 % от непустых значений\n",
      "Заменяем пустые случайными значениями из корректных\n"
     ]
    },
    {
     "data": {
      "image/png": "[encoded data removed]",
      "text/plain": [
       "<Figure size 432x288 with 1 Axes>"
      ]
     },
     "metadata": {
      "needs_background": "light"
     },
     "output_type": "display_data"
    }
   ],
   "source": [
    "column_info(stud_math.father_education, father_education_corr_values, 0)"
   ]
  },
  {
   "cell_type": "code",
   "execution_count": 783,
   "metadata": {},
   "outputs": [
    {
     "name": "stdout",
     "output_type": "stream",
     "text": [
      "Количество уникальных значений: 5\n"
     ]
    },
    {
     "data": {
      "text/plain": [
       "2.0    97\n",
       "3.0    96\n",
       "4.0    94\n",
       "1.0    75\n",
       "0.0     5\n",
       "Name: father_education, dtype: int64"
      ]
     },
     "metadata": {},
     "output_type": "display_data"
    },
    {
     "name": "stdout",
     "output_type": "stream",
     "text": [
      "Некорректных значений нет\n",
      "Отсутствующих значений(NaN) нет\n"
     ]
    },
    {
     "data": {
      "image/png": "[encoded data removed]",
      "text/plain": [
       "<Figure size 432x288 with 1 Axes>"
      ]
     },
     "metadata": {
      "needs_background": "light"
     },
     "output_type": "display_data"
    }
   ],
   "source": [
    "# Заменим некорректное значение 40 на 4(это скорее всего опечатка)\n",
    "stud_math.loc[(stud_math['father_education'] == 40), 'father_education'] = 4\n",
    "# Заменяем пустые случайными значениями из корректных\n",
    "fill_column_random(stud_math.father_education, father_education_corr_values)\n",
    "column_info(stud_math.father_education, father_education_corr_values, 0)"
   ]
  },
  {
   "cell_type": "code",
   "execution_count": 784,
   "metadata": {},
   "outputs": [
    {
     "name": "stdout",
     "output_type": "stream",
     "text": [
      "Количество уникальных значений: 5\n"
     ]
    },
    {
     "data": {
      "text/plain": [
       "other       120\n",
       "services     92\n",
       "at_home      56\n",
       "teacher      53\n",
       "health       30\n",
       "Name: mother_job, dtype: int64"
      ]
     },
     "metadata": {},
     "output_type": "display_data"
    },
    {
     "name": "stdout",
     "output_type": "stream",
     "text": [
      "Некорректных значений нет\n",
      "Отсутствующих значений(NaN): 16\n",
      "Мода: other  ,  34.0 % от непустых значений\n",
      "Заменяем пустые случайными значениями из корректных\n"
     ]
    }
   ],
   "source": [
    "column_info(stud_math.mother_job, mother_job_corr_values, 0)"
   ]
  },
  {
   "cell_type": "code",
   "execution_count": 785,
   "metadata": {},
   "outputs": [
    {
     "name": "stdout",
     "output_type": "stream",
     "text": [
      "Количество уникальных значений: 5\n"
     ]
    },
    {
     "data": {
      "text/plain": [
       "other       123\n",
       "services     96\n",
       "at_home      60\n",
       "teacher      55\n",
       "health       33\n",
       "Name: mother_job, dtype: int64"
      ]
     },
     "metadata": {},
     "output_type": "display_data"
    },
    {
     "name": "stdout",
     "output_type": "stream",
     "text": [
      "Некорректных значений нет\n",
      "Отсутствующих значений(NaN) нет\n"
     ]
    }
   ],
   "source": [
    "# Заменяем пустые случайными значениями из корректных\n",
    "fill_column_random(stud_math.mother_job, mother_job_corr_values)\n",
    "column_info(stud_math.mother_job, mother_job_corr_values, 0)"
   ]
  },
  {
   "cell_type": "code",
   "execution_count": 786,
   "metadata": {},
   "outputs": [
    {
     "name": "stdout",
     "output_type": "stream",
     "text": [
      "Количество уникальных значений: 5\n"
     ]
    },
    {
     "data": {
      "text/plain": [
       "other       185\n",
       "services     96\n",
       "teacher      28\n",
       "at_home      16\n",
       "health       15\n",
       "Name: father_job, dtype: int64"
      ]
     },
     "metadata": {},
     "output_type": "display_data"
    },
    {
     "name": "stdout",
     "output_type": "stream",
     "text": [
      "Некорректных значений нет\n",
      "Отсутствующих значений(NaN): 27\n",
      "Мода: other  ,  54.0 % от непустых значений\n",
      "Заменяем пустые случайными значениями из корректных\n"
     ]
    }
   ],
   "source": [
    "column_info(stud_math.father_job, father_job_corr_values, 0)"
   ]
  },
  {
   "cell_type": "code",
   "execution_count": 787,
   "metadata": {},
   "outputs": [
    {
     "name": "stdout",
     "output_type": "stream",
     "text": [
      "Количество уникальных значений: 5\n"
     ]
    },
    {
     "data": {
      "text/plain": [
       "other       188\n",
       "services     98\n",
       "teacher      39\n",
       "at_home      21\n",
       "health       21\n",
       "Name: father_job, dtype: int64"
      ]
     },
     "metadata": {},
     "output_type": "display_data"
    },
    {
     "name": "stdout",
     "output_type": "stream",
     "text": [
      "Некорректных значений нет\n",
      "Отсутствующих значений(NaN) нет\n"
     ]
    }
   ],
   "source": [
    "# Заменяем пустые случайными значениями из корректных\n",
    "fill_column_random(stud_math.father_job, father_job_corr_values)\n",
    "column_info(stud_math.father_job, father_job_corr_values, 0)"
   ]
  },
  {
   "cell_type": "code",
   "execution_count": 788,
   "metadata": {},
   "outputs": [
    {
     "name": "stdout",
     "output_type": "stream",
     "text": [
      "Количество уникальных значений: 4\n"
     ]
    },
    {
     "data": {
      "text/plain": [
       "course        131\n",
       "reputation     95\n",
       "home           95\n",
       "other          31\n",
       "Name: reason, dtype: int64"
      ]
     },
     "metadata": {},
     "output_type": "display_data"
    },
    {
     "name": "stdout",
     "output_type": "stream",
     "text": [
      "Некорректных значений нет\n",
      "Отсутствующих значений(NaN): 15\n",
      "Мода: course  ,  37.0 % от непустых значений\n",
      "Заменяем пустые случайными значениями из корректных\n"
     ]
    }
   ],
   "source": [
    "column_info(stud_math.reason, reason_corr_values, 0)"
   ]
  },
  {
   "cell_type": "code",
   "execution_count": 789,
   "metadata": {},
   "outputs": [
    {
     "name": "stdout",
     "output_type": "stream",
     "text": [
      "Количество уникальных значений: 4\n"
     ]
    },
    {
     "data": {
      "text/plain": [
       "course        136\n",
       "home           99\n",
       "reputation     97\n",
       "other          35\n",
       "Name: reason, dtype: int64"
      ]
     },
     "metadata": {},
     "output_type": "display_data"
    },
    {
     "name": "stdout",
     "output_type": "stream",
     "text": [
      "Некорректных значений нет\n",
      "Отсутствующих значений(NaN) нет\n"
     ]
    }
   ],
   "source": [
    "# Заменяем пустые случайными значениями из корректных\n",
    "fill_column_random(stud_math.reason, reason_corr_values)\n",
    "column_info(stud_math.reason, reason_corr_values, 0)"
   ]
  },
  {
   "cell_type": "code",
   "execution_count": 790,
   "metadata": {},
   "outputs": [
    {
     "name": "stdout",
     "output_type": "stream",
     "text": [
      "Количество уникальных значений: 3\n"
     ]
    },
    {
     "data": {
      "text/plain": [
       "mother    235\n",
       "father     79\n",
       "other      23\n",
       "Name: guardian, dtype: int64"
      ]
     },
     "metadata": {},
     "output_type": "display_data"
    },
    {
     "name": "stdout",
     "output_type": "stream",
     "text": [
      "Некорректных значений нет\n",
      "Отсутствующих значений(NaN): 30\n",
      "Мода: mother  ,  70.0 % от непустых значений\n",
      "Заменяем пустые значениями моды\n"
     ]
    }
   ],
   "source": [
    "column_info(stud_math.guardian, guardian_corr_values, 0)"
   ]
  },
  {
   "cell_type": "code",
   "execution_count": 791,
   "metadata": {},
   "outputs": [
    {
     "name": "stdout",
     "output_type": "stream",
     "text": [
      "Количество уникальных значений: 3\n"
     ]
    },
    {
     "data": {
      "text/plain": [
       "mother    265\n",
       "father     79\n",
       "other      23\n",
       "Name: guardian, dtype: int64"
      ]
     },
     "metadata": {},
     "output_type": "display_data"
    },
    {
     "name": "stdout",
     "output_type": "stream",
     "text": [
      "Некорректных значений нет\n",
      "Отсутствующих значений(NaN) нет\n"
     ]
    }
   ],
   "source": [
    "# Заполним пустые значения модой\n",
    "fill_column_mode(stud_math.guardian)\n",
    "column_info(stud_math.guardian, guardian_corr_values, 0)"
   ]
  },
  {
   "cell_type": "code",
   "execution_count": 792,
   "metadata": {},
   "outputs": [
    {
     "name": "stdout",
     "output_type": "stream",
     "text": [
      "Количество уникальных значений: 4\n"
     ]
    },
    {
     "data": {
      "text/plain": [
       "1.0    229\n",
       "2.0     90\n",
       "3.0     20\n",
       "4.0      7\n",
       "Name: travel_time, dtype: int64"
      ]
     },
     "metadata": {},
     "output_type": "display_data"
    },
    {
     "name": "stdout",
     "output_type": "stream",
     "text": [
      "Некорректных значений нет\n",
      "Отсутствующих значений(NaN): 21\n",
      "Мода: 1.0  ,  66.0 % от непустых значений\n",
      "Заменяем пустые значениями моды\n"
     ]
    },
    {
     "data": {
      "image/png": "[encoded data removed]",
      "text/plain": [
       "<Figure size 432x288 with 1 Axes>"
      ]
     },
     "metadata": {
      "needs_background": "light"
     },
     "output_type": "display_data"
    }
   ],
   "source": [
    "column_info(stud_math.travel_time, travel_time_corr_values, 0)"
   ]
  },
  {
   "cell_type": "code",
   "execution_count": 793,
   "metadata": {},
   "outputs": [
    {
     "name": "stdout",
     "output_type": "stream",
     "text": [
      "Количество уникальных значений: 4\n"
     ]
    },
    {
     "data": {
      "text/plain": [
       "1.0    250\n",
       "2.0     90\n",
       "3.0     20\n",
       "4.0      7\n",
       "Name: travel_time, dtype: int64"
      ]
     },
     "metadata": {},
     "output_type": "display_data"
    },
    {
     "name": "stdout",
     "output_type": "stream",
     "text": [
      "Некорректных значений нет\n",
      "Отсутствующих значений(NaN) нет\n"
     ]
    },
    {
     "data": {
      "image/png": "[encoded data removed]",
      "text/plain": [
       "<Figure size 432x288 with 1 Axes>"
      ]
     },
     "metadata": {
      "needs_background": "light"
     },
     "output_type": "display_data"
    }
   ],
   "source": [
    "# Заполним пустые значения модой\n",
    "fill_column_mode(stud_math.travel_time)\n",
    "column_info(stud_math.travel_time, travel_time_corr_values, 0)"
   ]
  },
  {
   "cell_type": "code",
   "execution_count": 794,
   "metadata": {},
   "outputs": [
    {
     "name": "stdout",
     "output_type": "stream",
     "text": [
      "Количество уникальных значений: 4\n"
     ]
    },
    {
     "data": {
      "text/plain": [
       "2.0    181\n",
       "1.0     95\n",
       "3.0     62\n",
       "4.0     27\n",
       "Name: study_time, dtype: int64"
      ]
     },
     "metadata": {},
     "output_type": "display_data"
    },
    {
     "name": "stdout",
     "output_type": "stream",
     "text": [
      "Некорректных значений нет\n",
      "Отсутствующих значений(NaN): 2\n",
      "Мода: 2.0  ,  50.0 % от непустых значений\n",
      "Заменяем пустые случайными значениями из корректных\n"
     ]
    },
    {
     "data": {
      "image/png": "[encoded data removed]",
      "text/plain": [
       "<Figure size 432x288 with 1 Axes>"
      ]
     },
     "metadata": {
      "needs_background": "light"
     },
     "output_type": "display_data"
    }
   ],
   "source": [
    "column_info(stud_math.study_time, study_time_corr_values, 0)"
   ]
  },
  {
   "cell_type": "code",
   "execution_count": 795,
   "metadata": {},
   "outputs": [
    {
     "name": "stdout",
     "output_type": "stream",
     "text": [
      "Количество уникальных значений: 4\n"
     ]
    },
    {
     "data": {
      "text/plain": [
       "2.0    181\n",
       "1.0     95\n",
       "3.0     64\n",
       "4.0     27\n",
       "Name: study_time, dtype: int64"
      ]
     },
     "metadata": {},
     "output_type": "display_data"
    },
    {
     "name": "stdout",
     "output_type": "stream",
     "text": [
      "Некорректных значений нет\n",
      "Отсутствующих значений(NaN) нет\n"
     ]
    },
    {
     "data": {
      "image/png": "[encoded data removed]",
      "text/plain": [
       "<Figure size 432x288 with 1 Axes>"
      ]
     },
     "metadata": {
      "needs_background": "light"
     },
     "output_type": "display_data"
    }
   ],
   "source": [
    "# Заполним пустые случайными\n",
    "fill_column_random(stud_math.study_time, study_time_corr_values)\n",
    "column_info(stud_math.study_time, study_time_corr_values, 0)"
   ]
  },
  {
   "cell_type": "code",
   "execution_count": 796,
   "metadata": {},
   "outputs": [
    {
     "name": "stdout",
     "output_type": "stream",
     "text": [
      "Количество уникальных значений: 4\n"
     ]
    },
    {
     "data": {
      "text/plain": [
       "0.0    278\n",
       "1.0     44\n",
       "2.0     14\n",
       "3.0     14\n",
       "Name: failures, dtype: int64"
      ]
     },
     "metadata": {},
     "output_type": "display_data"
    },
    {
     "name": "stdout",
     "output_type": "stream",
     "text": [
      "Некорректных значений нет\n",
      "Отсутствующих значений(NaN): 17\n",
      "Мода: 0.0  ,  79.0 % от непустых значений\n",
      "Заменяем пустые значениями моды\n"
     ]
    },
    {
     "data": {
      "image/png": "[encoded data removed]",
      "text/plain": [
       "<Figure size 432x288 with 1 Axes>"
      ]
     },
     "metadata": {
      "needs_background": "light"
     },
     "output_type": "display_data"
    }
   ],
   "source": [
    "column_info(stud_math.failures, failures_corr_values, 0)"
   ]
  },
  {
   "cell_type": "code",
   "execution_count": 797,
   "metadata": {},
   "outputs": [],
   "source": [
    "# Количество внеучебных неудач (n, если 1<=n<=3, иначе 0) крайне странное,\n",
    "# т.к. 0 может значить как 0 неудач так и сколь угодно много.\n",
    "# Считаю, что такая информация слишком противоречива. Удаляю этот столбец из данных.\n",
    "del stud_math['failures']"
   ]
  },
  {
   "cell_type": "code",
   "execution_count": 798,
   "metadata": {},
   "outputs": [
    {
     "name": "stdout",
     "output_type": "stream",
     "text": [
      "Количество уникальных значений: 2\n"
     ]
    },
    {
     "data": {
      "text/plain": [
       "no     314\n",
       "yes     44\n",
       "Name: school_support, dtype: int64"
      ]
     },
     "metadata": {},
     "output_type": "display_data"
    },
    {
     "name": "stdout",
     "output_type": "stream",
     "text": [
      "Некорректных значений нет\n",
      "Отсутствующих значений(NaN): 9\n",
      "Мода: no  ,  88.0 % от непустых значений\n",
      "Заменяем пустые значениями моды\n"
     ]
    }
   ],
   "source": [
    "column_info(stud_math.school_support, school_support_corr_values, 0)"
   ]
  },
  {
   "cell_type": "code",
   "execution_count": 799,
   "metadata": {},
   "outputs": [
    {
     "name": "stdout",
     "output_type": "stream",
     "text": [
      "Количество уникальных значений: 2\n"
     ]
    },
    {
     "data": {
      "text/plain": [
       "no     323\n",
       "yes     44\n",
       "Name: school_support, dtype: int64"
      ]
     },
     "metadata": {},
     "output_type": "display_data"
    },
    {
     "name": "stdout",
     "output_type": "stream",
     "text": [
      "Некорректных значений нет\n",
      "Отсутствующих значений(NaN) нет\n"
     ]
    }
   ],
   "source": [
    "# Заполним пустые значения модой\n",
    "fill_column_mode(stud_math.school_support)\n",
    "column_info(stud_math.school_support, school_support_corr_values, 0)"
   ]
  },
  {
   "cell_type": "code",
   "execution_count": 800,
   "metadata": {},
   "outputs": [
    {
     "name": "stdout",
     "output_type": "stream",
     "text": [
      "Количество уникальных значений: 2\n"
     ]
    },
    {
     "data": {
      "text/plain": [
       "yes    211\n",
       "no     124\n",
       "Name: family_support, dtype: int64"
      ]
     },
     "metadata": {},
     "output_type": "display_data"
    },
    {
     "name": "stdout",
     "output_type": "stream",
     "text": [
      "Некорректных значений нет\n",
      "Отсутствующих значений(NaN): 32\n",
      "Мода: yes  ,  63.0 % от непустых значений\n",
      "Заменяем пустые случайными значениями из корректных\n"
     ]
    }
   ],
   "source": [
    "column_info(stud_math.family_support, family_support_corr_values, 0)"
   ]
  },
  {
   "cell_type": "code",
   "execution_count": 801,
   "metadata": {},
   "outputs": [
    {
     "name": "stdout",
     "output_type": "stream",
     "text": [
      "Количество уникальных значений: 2\n"
     ]
    },
    {
     "data": {
      "text/plain": [
       "yes    228\n",
       "no     139\n",
       "Name: family_support, dtype: int64"
      ]
     },
     "metadata": {},
     "output_type": "display_data"
    },
    {
     "name": "stdout",
     "output_type": "stream",
     "text": [
      "Некорректных значений нет\n",
      "Отсутствующих значений(NaN) нет\n"
     ]
    }
   ],
   "source": [
    "# Заполним пустые случайными\n",
    "fill_column_random(stud_math.family_support, family_support_corr_values)\n",
    "column_info(stud_math.family_support, family_support_corr_values, 0)"
   ]
  },
  {
   "cell_type": "code",
   "execution_count": 802,
   "metadata": {},
   "outputs": [
    {
     "name": "stdout",
     "output_type": "stream",
     "text": [
      "Количество уникальных значений: 2\n"
     ]
    },
    {
     "data": {
      "text/plain": [
       "no     189\n",
       "yes    146\n",
       "Name: paid, dtype: int64"
      ]
     },
     "metadata": {},
     "output_type": "display_data"
    },
    {
     "name": "stdout",
     "output_type": "stream",
     "text": [
      "Некорректных значений нет\n",
      "Отсутствующих значений(NaN): 32\n",
      "Мода: no  ,  56.0 % от непустых значений\n",
      "Заменяем пустые случайными значениями из корректных\n"
     ]
    }
   ],
   "source": [
    "column_info(stud_math.paid, paid_corr_values, 0)"
   ]
  },
  {
   "cell_type": "code",
   "execution_count": 803,
   "metadata": {},
   "outputs": [
    {
     "name": "stdout",
     "output_type": "stream",
     "text": [
      "Количество уникальных значений: 2\n"
     ]
    },
    {
     "data": {
      "text/plain": [
       "no     211\n",
       "yes    156\n",
       "Name: paid, dtype: int64"
      ]
     },
     "metadata": {},
     "output_type": "display_data"
    },
    {
     "name": "stdout",
     "output_type": "stream",
     "text": [
      "Некорректных значений нет\n",
      "Отсутствующих значений(NaN) нет\n"
     ]
    }
   ],
   "source": [
    "# Заполним пустые случайными\n",
    "fill_column_random(stud_math.paid, paid_corr_values)\n",
    "column_info(stud_math.paid, paid_corr_values, 0)"
   ]
  },
  {
   "cell_type": "code",
   "execution_count": 804,
   "metadata": {},
   "outputs": [
    {
     "name": "stdout",
     "output_type": "stream",
     "text": [
      "Количество уникальных значений: 2\n"
     ]
    },
    {
     "data": {
      "text/plain": [
       "yes    181\n",
       "no     175\n",
       "Name: activities, dtype: int64"
      ]
     },
     "metadata": {},
     "output_type": "display_data"
    },
    {
     "name": "stdout",
     "output_type": "stream",
     "text": [
      "Некорректных значений нет\n",
      "Отсутствующих значений(NaN): 11\n",
      "Мода: yes  ,  51.0 % от непустых значений\n",
      "Заменяем пустые случайными значениями из корректных\n"
     ]
    }
   ],
   "source": [
    "column_info(stud_math.activities, activities_corr_values, 0)"
   ]
  },
  {
   "cell_type": "code",
   "execution_count": 805,
   "metadata": {},
   "outputs": [
    {
     "name": "stdout",
     "output_type": "stream",
     "text": [
      "Количество уникальных значений: 2\n"
     ]
    },
    {
     "data": {
      "text/plain": [
       "yes    184\n",
       "no     183\n",
       "Name: activities, dtype: int64"
      ]
     },
     "metadata": {},
     "output_type": "display_data"
    },
    {
     "name": "stdout",
     "output_type": "stream",
     "text": [
      "Некорректных значений нет\n",
      "Отсутствующих значений(NaN) нет\n"
     ]
    }
   ],
   "source": [
    "# Заполним пустые случайными\n",
    "fill_column_random(stud_math.activities, activities_corr_values)\n",
    "column_info(stud_math.activities, activities_corr_values, 0)"
   ]
  },
  {
   "cell_type": "code",
   "execution_count": 806,
   "metadata": {},
   "outputs": [
    {
     "name": "stdout",
     "output_type": "stream",
     "text": [
      "Количество уникальных значений: 2\n"
     ]
    },
    {
     "data": {
      "text/plain": [
       "yes    280\n",
       "no      72\n",
       "Name: nursery, dtype: int64"
      ]
     },
     "metadata": {},
     "output_type": "display_data"
    },
    {
     "name": "stdout",
     "output_type": "stream",
     "text": [
      "Некорректных значений нет\n",
      "Отсутствующих значений(NaN): 15\n",
      "Мода: yes  ,  80.0 % от непустых значений\n",
      "Заменяем пустые значениями моды\n"
     ]
    }
   ],
   "source": [
    "column_info(stud_math.nursery, nursery_corr_values, 0)"
   ]
  },
  {
   "cell_type": "code",
   "execution_count": 807,
   "metadata": {},
   "outputs": [
    {
     "name": "stdout",
     "output_type": "stream",
     "text": [
      "Количество уникальных значений: 2\n"
     ]
    },
    {
     "data": {
      "text/plain": [
       "yes    295\n",
       "no      72\n",
       "Name: nursery, dtype: int64"
      ]
     },
     "metadata": {},
     "output_type": "display_data"
    },
    {
     "name": "stdout",
     "output_type": "stream",
     "text": [
      "Некорректных значений нет\n",
      "Отсутствующих значений(NaN) нет\n"
     ]
    }
   ],
   "source": [
    "# Заполним пустые значения модой\n",
    "fill_column_mode(stud_math.nursery)\n",
    "column_info(stud_math.nursery, nursery_corr_values, 0)"
   ]
  },
  {
   "cell_type": "code",
   "execution_count": 808,
   "metadata": {},
   "outputs": [
    {
     "name": "stdout",
     "output_type": "stream",
     "text": [
      "Количество уникальных значений: 4\n"
     ]
    },
    {
     "data": {
      "text/plain": [
       "-6.0     181\n",
       "-3.0      95\n",
       "-9.0      62\n",
       "-12.0     27\n",
       "Name: study_time_granular, dtype: int64"
      ]
     },
     "metadata": {},
     "output_type": "display_data"
    },
    {
     "name": "stdout",
     "output_type": "stream",
     "text": [
      "Некорректных значений нет\n",
      "Отсутствующих значений(NaN): 2\n",
      "Мода: -6.0  ,  50.0 % от непустых значений\n"
     ]
    },
    {
     "data": {
      "image/png": "[encoded data removed]",
      "text/plain": [
       "<Figure size 432x288 with 1 Axes>"
      ]
     },
     "metadata": {
      "needs_background": "light"
     },
     "output_type": "display_data"
    }
   ],
   "source": [
    "column_info(stud_math.study_time_granular, study_time_granular_corr_values, 0)"
   ]
  },
  {
   "cell_type": "code",
   "execution_count": 809,
   "metadata": {},
   "outputs": [
    {
     "name": "stdout",
     "output_type": "stream",
     "text": [
      "Количество уникальных значений: 4\n"
     ]
    },
    {
     "data": {
      "text/plain": [
       "-6.0     182\n",
       "-3.0      95\n",
       "-9.0      63\n",
       "-12.0     27\n",
       "Name: study_time_granular, dtype: int64"
      ]
     },
     "metadata": {},
     "output_type": "display_data"
    },
    {
     "name": "stdout",
     "output_type": "stream",
     "text": [
      "Некорректных значений нет\n",
      "Отсутствующих значений(NaN) нет\n"
     ]
    },
    {
     "data": {
      "image/png": "[encoded data removed]",
      "text/plain": [
       "<Figure size 432x288 with 1 Axes>"
      ]
     },
     "metadata": {
      "needs_background": "light"
     },
     "output_type": "display_data"
    }
   ],
   "source": [
    "# Заполним пустые случайными (начальных данных нет о возможных значениях, заполняем теми которые есть в наличии)\n",
    "fill_column_random(stud_math.study_time_granular, [-3, -6, -9, -12])\n",
    "column_info(stud_math.study_time_granular, study_time_granular_corr_values, 0)"
   ]
  },
  {
   "cell_type": "code",
   "execution_count": 810,
   "metadata": {},
   "outputs": [
    {
     "name": "stdout",
     "output_type": "stream",
     "text": [
      "Количество уникальных значений: 2\n"
     ]
    },
    {
     "data": {
      "text/plain": [
       "yes    332\n",
       "no      17\n",
       "Name: higher, dtype: int64"
      ]
     },
     "metadata": {},
     "output_type": "display_data"
    },
    {
     "name": "stdout",
     "output_type": "stream",
     "text": [
      "Некорректных значений нет\n",
      "Отсутствующих значений(NaN): 18\n",
      "Мода: yes  ,  95.0 % от непустых значений\n",
      "Заменяем пустые значениями моды\n"
     ]
    }
   ],
   "source": [
    "column_info(stud_math.higher, higher_corr_values, 0)"
   ]
  },
  {
   "cell_type": "code",
   "execution_count": 811,
   "metadata": {},
   "outputs": [
    {
     "name": "stdout",
     "output_type": "stream",
     "text": [
      "Количество уникальных значений: 2\n"
     ]
    },
    {
     "data": {
      "text/plain": [
       "yes    350\n",
       "no      17\n",
       "Name: higher, dtype: int64"
      ]
     },
     "metadata": {},
     "output_type": "display_data"
    },
    {
     "name": "stdout",
     "output_type": "stream",
     "text": [
      "Некорректных значений нет\n",
      "Отсутствующих значений(NaN) нет\n"
     ]
    }
   ],
   "source": [
    "# Заполним пустые значения модой\n",
    "fill_column_mode(stud_math.higher)\n",
    "column_info(stud_math.higher, higher_corr_values, 0)"
   ]
  },
  {
   "cell_type": "code",
   "execution_count": 812,
   "metadata": {},
   "outputs": [
    {
     "name": "stdout",
     "output_type": "stream",
     "text": [
      "Количество уникальных значений: 2\n"
     ]
    },
    {
     "data": {
      "text/plain": [
       "yes    282\n",
       "no      54\n",
       "Name: internet, dtype: int64"
      ]
     },
     "metadata": {},
     "output_type": "display_data"
    },
    {
     "name": "stdout",
     "output_type": "stream",
     "text": [
      "Некорректных значений нет\n",
      "Отсутствующих значений(NaN): 31\n",
      "Мода: yes  ,  84.0 % от непустых значений\n",
      "Заменяем пустые значениями моды\n"
     ]
    }
   ],
   "source": [
    "column_info(stud_math.internet, internet_corr_values, 0)"
   ]
  },
  {
   "cell_type": "code",
   "execution_count": 813,
   "metadata": {},
   "outputs": [
    {
     "name": "stdout",
     "output_type": "stream",
     "text": [
      "Количество уникальных значений: 2\n"
     ]
    },
    {
     "data": {
      "text/plain": [
       "yes    313\n",
       "no      54\n",
       "Name: internet, dtype: int64"
      ]
     },
     "metadata": {},
     "output_type": "display_data"
    },
    {
     "name": "stdout",
     "output_type": "stream",
     "text": [
      "Некорректных значений нет\n",
      "Отсутствующих значений(NaN) нет\n"
     ]
    }
   ],
   "source": [
    "# Заполним пустые значения модой\n",
    "fill_column_mode(stud_math.internet)\n",
    "column_info(stud_math.internet, internet_corr_values, 0)"
   ]
  },
  {
   "cell_type": "code",
   "execution_count": 814,
   "metadata": {},
   "outputs": [
    {
     "name": "stdout",
     "output_type": "stream",
     "text": [
      "Количество уникальных значений: 2\n"
     ]
    },
    {
     "data": {
      "text/plain": [
       "no     226\n",
       "yes    118\n",
       "Name: romantic, dtype: int64"
      ]
     },
     "metadata": {},
     "output_type": "display_data"
    },
    {
     "name": "stdout",
     "output_type": "stream",
     "text": [
      "Некорректных значений нет\n",
      "Отсутствующих значений(NaN): 23\n",
      "Мода: no  ,  66.0 % от непустых значений\n",
      "Заменяем пустые значениями моды\n"
     ]
    }
   ],
   "source": [
    "column_info(stud_math.romantic, romantic_corr_values, 0)"
   ]
  },
  {
   "cell_type": "code",
   "execution_count": 815,
   "metadata": {},
   "outputs": [
    {
     "name": "stdout",
     "output_type": "stream",
     "text": [
      "Количество уникальных значений: 2\n"
     ]
    },
    {
     "data": {
      "text/plain": [
       "no     249\n",
       "yes    118\n",
       "Name: romantic, dtype: int64"
      ]
     },
     "metadata": {},
     "output_type": "display_data"
    },
    {
     "name": "stdout",
     "output_type": "stream",
     "text": [
      "Некорректных значений нет\n",
      "Отсутствующих значений(NaN) нет\n"
     ]
    }
   ],
   "source": [
    "# Заполним пустые значения модой\n",
    "fill_column_mode(stud_math.romantic)\n",
    "column_info(stud_math.romantic, romantic_corr_values, 0)"
   ]
  },
  {
   "cell_type": "code",
   "execution_count": 816,
   "metadata": {},
   "outputs": [
    {
     "name": "stdout",
     "output_type": "stream",
     "text": [
      "Количество уникальных значений: 6\n"
     ]
    },
    {
     "data": {
      "text/plain": [
       " 4.0    172\n",
       " 5.0     88\n",
       " 3.0     59\n",
       " 2.0     17\n",
       " 1.0      7\n",
       "-1.0      1\n",
       "Name: family_relation, dtype: int64"
      ]
     },
     "metadata": {},
     "output_type": "display_data"
    },
    {
     "name": "stdout",
     "output_type": "stream",
     "text": [
      "Некорректные значения: \n",
      " 25   -1.0\n",
      "Name: family_relation, dtype: float64\n",
      "Отсутствующих значений(NaN): 23\n",
      "Мода: 4.0  ,  50.0 % от непустых значений\n",
      "Заменяем пустые случайными значениями из корректных\n"
     ]
    },
    {
     "data": {
      "image/png": "[encoded data removed]",
      "text/plain": [
       "<Figure size 432x288 with 1 Axes>"
      ]
     },
     "metadata": {
      "needs_background": "light"
     },
     "output_type": "display_data"
    }
   ],
   "source": [
    "column_info(stud_math.family_relation, family_relation_corr_values, 0)"
   ]
  },
  {
   "cell_type": "code",
   "execution_count": 817,
   "metadata": {},
   "outputs": [
    {
     "name": "stdout",
     "output_type": "stream",
     "text": [
      "Количество уникальных значений: 5\n"
     ]
    },
    {
     "data": {
      "text/plain": [
       "4.0    175\n",
       "5.0     93\n",
       "3.0     64\n",
       "2.0     23\n",
       "1.0     12\n",
       "Name: family_relation, dtype: int64"
      ]
     },
     "metadata": {},
     "output_type": "display_data"
    },
    {
     "name": "stdout",
     "output_type": "stream",
     "text": [
      "Некорректных значений нет\n",
      "Медиана: 4.0\n",
      "Среднее арифметическое: 3.8555858310626703\n",
      "Мода: 4.0\n",
      "25-й перцентиль: 3.0, 75-й перцентиль: 5.0, IQR: 2.0,  Границы выбросов: [0.0, 8.0].\n",
      "Отсутствующих значений(NaN) нет\n"
     ]
    },
    {
     "data": {
      "image/png": "[encoded data removed]",
      "text/plain": [
       "<Figure size 432x288 with 1 Axes>"
      ]
     },
     "metadata": {
      "needs_background": "light"
     },
     "output_type": "display_data"
    }
   ],
   "source": [
    "# Выбросы указаны из-за некорреткного значения -1\n",
    "# Заменим некорректное значение -1 на 1(это скорее всего опечатка)\n",
    "stud_math.loc[(stud_math['family_relation'] == -1), 'family_relation'] = 1\n",
    "# Заполним пустые случайными\n",
    "fill_column_random(stud_math.family_relation, family_relation_corr_values)\n",
    "column_info(stud_math.family_relation, family_relation_corr_values, 1)"
   ]
  },
  {
   "cell_type": "code",
   "execution_count": 818,
   "metadata": {},
   "outputs": [
    {
     "name": "stdout",
     "output_type": "stream",
     "text": [
      "Количество уникальных значений: 5\n"
     ]
    },
    {
     "data": {
      "text/plain": [
       "3.0    145\n",
       "4.0    106\n",
       "2.0     60\n",
       "5.0     33\n",
       "1.0     16\n",
       "Name: free_time, dtype: int64"
      ]
     },
     "metadata": {},
     "output_type": "display_data"
    },
    {
     "name": "stdout",
     "output_type": "stream",
     "text": [
      "Некорректных значений нет\n",
      "Отсутствующих значений(NaN): 7\n",
      "Мода: 3.0  ,  40.0 % от непустых значений\n",
      "Заменяем пустые случайными значениями из корректных\n"
     ]
    },
    {
     "data": {
      "image/png": "[encoded data removed]",
      "text/plain": [
       "<Figure size 432x288 with 1 Axes>"
      ]
     },
     "metadata": {
      "needs_background": "light"
     },
     "output_type": "display_data"
    }
   ],
   "source": [
    "column_info(stud_math.free_time, free_time_corr_values, 0)"
   ]
  },
  {
   "cell_type": "code",
   "execution_count": 819,
   "metadata": {},
   "outputs": [
    {
     "name": "stdout",
     "output_type": "stream",
     "text": [
      "Количество уникальных значений: 5\n"
     ]
    },
    {
     "data": {
      "text/plain": [
       "3.0    149\n",
       "4.0    106\n",
       "2.0     60\n",
       "5.0     36\n",
       "1.0     16\n",
       "Name: free_time, dtype: int64"
      ]
     },
     "metadata": {},
     "output_type": "display_data"
    },
    {
     "name": "stdout",
     "output_type": "stream",
     "text": [
      "Некорректных значений нет\n",
      "Отсутствующих значений(NaN) нет\n"
     ]
    },
    {
     "data": {
      "image/png": "[encoded data removed]",
      "text/plain": [
       "<Figure size 432x288 with 1 Axes>"
      ]
     },
     "metadata": {
      "needs_background": "light"
     },
     "output_type": "display_data"
    }
   ],
   "source": [
    "# Заполним пустые случайными\n",
    "fill_column_random(stud_math.free_time, free_time_corr_values)\n",
    "column_info(stud_math.free_time, free_time_corr_values, 0)"
   ]
  },
  {
   "cell_type": "code",
   "execution_count": 820,
   "metadata": {},
   "outputs": [
    {
     "name": "stdout",
     "output_type": "stream",
     "text": [
      "Количество уникальных значений: 5\n"
     ]
    },
    {
     "data": {
      "text/plain": [
       "3.0    121\n",
       "2.0     92\n",
       "4.0     77\n",
       "5.0     47\n",
       "1.0     23\n",
       "Name: go_out, dtype: int64"
      ]
     },
     "metadata": {},
     "output_type": "display_data"
    },
    {
     "name": "stdout",
     "output_type": "stream",
     "text": [
      "Некорректных значений нет\n",
      "Отсутствующих значений(NaN): 7\n",
      "Мода: 3.0  ,  34.0 % от непустых значений\n",
      "Заменяем пустые случайными значениями из корректных\n"
     ]
    },
    {
     "data": {
      "image/png": "[encoded data removed]",
      "text/plain": [
       "<Figure size 432x288 with 1 Axes>"
      ]
     },
     "metadata": {
      "needs_background": "light"
     },
     "output_type": "display_data"
    }
   ],
   "source": [
    "column_info(stud_math.go_out, go_out_corr_values, 0)"
   ]
  },
  {
   "cell_type": "code",
   "execution_count": 821,
   "metadata": {},
   "outputs": [
    {
     "name": "stdout",
     "output_type": "stream",
     "text": [
      "Количество уникальных значений: 5\n"
     ]
    },
    {
     "data": {
      "text/plain": [
       "3.0    123\n",
       "2.0     95\n",
       "4.0     79\n",
       "5.0     47\n",
       "1.0     23\n",
       "Name: go_out, dtype: int64"
      ]
     },
     "metadata": {},
     "output_type": "display_data"
    },
    {
     "name": "stdout",
     "output_type": "stream",
     "text": [
      "Некорректных значений нет\n",
      "Отсутствующих значений(NaN) нет\n"
     ]
    },
    {
     "data": {
      "image/png": "[encoded data removed]",
      "text/plain": [
       "<Figure size 432x288 with 1 Axes>"
      ]
     },
     "metadata": {
      "needs_background": "light"
     },
     "output_type": "display_data"
    }
   ],
   "source": [
    "# Заполним пустые случайными\n",
    "fill_column_random(stud_math.go_out, go_out_corr_values)\n",
    "column_info(stud_math.go_out, go_out_corr_values, 0)"
   ]
  },
  {
   "cell_type": "code",
   "execution_count": 822,
   "metadata": {},
   "outputs": [
    {
     "name": "stdout",
     "output_type": "stream",
     "text": [
      "Количество уникальных значений: 5\n"
     ]
    },
    {
     "data": {
      "text/plain": [
       "5.0    127\n",
       "3.0     86\n",
       "4.0     56\n",
       "1.0     44\n",
       "2.0     41\n",
       "Name: health, dtype: int64"
      ]
     },
     "metadata": {},
     "output_type": "display_data"
    },
    {
     "name": "stdout",
     "output_type": "stream",
     "text": [
      "Некорректных значений нет\n",
      "Отсутствующих значений(NaN): 13\n",
      "Мода: 5.0  ,  36.0 % от непустых значений\n",
      "Заменяем пустые случайными значениями из корректных\n"
     ]
    },
    {
     "data": {
      "image/png": "[encoded data removed]",
      "text/plain": [
       "<Figure size 432x288 with 1 Axes>"
      ]
     },
     "metadata": {
      "needs_background": "light"
     },
     "output_type": "display_data"
    }
   ],
   "source": [
    "column_info(stud_math.health, health_corr_values, 0)"
   ]
  },
  {
   "cell_type": "code",
   "execution_count": 823,
   "metadata": {},
   "outputs": [
    {
     "name": "stdout",
     "output_type": "stream",
     "text": [
      "Количество уникальных значений: 5\n"
     ]
    },
    {
     "data": {
      "text/plain": [
       "5.0    129\n",
       "3.0     89\n",
       "4.0     58\n",
       "1.0     46\n",
       "2.0     45\n",
       "Name: health, dtype: int64"
      ]
     },
     "metadata": {},
     "output_type": "display_data"
    },
    {
     "name": "stdout",
     "output_type": "stream",
     "text": [
      "Некорректных значений нет\n",
      "Отсутствующих значений(NaN) нет\n"
     ]
    },
    {
     "data": {
      "image/png": "[encoded data removed]",
      "text/plain": [
       "<Figure size 432x288 with 1 Axes>"
      ]
     },
     "metadata": {
      "needs_background": "light"
     },
     "output_type": "display_data"
    }
   ],
   "source": [
    "# Заполним пустые случайными\n",
    "fill_column_random(stud_math.health, health_corr_values)\n",
    "column_info(stud_math.health, health_corr_values, 0)"
   ]
  },
  {
   "cell_type": "code",
   "execution_count": 824,
   "metadata": {},
   "outputs": [
    {
     "name": "stdout",
     "output_type": "stream",
     "text": [
      "Количество уникальных значений: 35\n"
     ]
    },
    {
     "data": {
      "text/plain": [
       "0.0      107\n",
       "2.0       55\n",
       "4.0       49\n",
       "6.0       27\n",
       "8.0       20\n",
       "10.0      16\n",
       "12.0      12\n",
       "14.0      10\n",
       "16.0       7\n",
       "3.0        7\n",
       "7.0        6\n",
       "5.0        5\n",
       "18.0       5\n",
       "20.0       4\n",
       "9.0        3\n",
       "1.0        3\n",
       "15.0       2\n",
       "13.0       2\n",
       "22.0       2\n",
       "25.0       1\n",
       "54.0       1\n",
       "385.0      1\n",
       "26.0       1\n",
       "56.0       1\n",
       "24.0       1\n",
       "212.0      1\n",
       "21.0       1\n",
       "75.0       1\n",
       "19.0       1\n",
       "38.0       1\n",
       "40.0       1\n",
       "23.0       1\n",
       "11.0       1\n",
       "17.0       1\n",
       "28.0       1\n",
       "Name: absences, dtype: int64"
      ]
     },
     "metadata": {},
     "output_type": "display_data"
    },
    {
     "name": "stdout",
     "output_type": "stream",
     "text": [
      "Некорректных значений нет\n",
      "Медиана: 4.0\n",
      "Среднее арифметическое: 7.335195530726257\n",
      "Мода: 0.0\n",
      "25-й перцентиль: 0.0, 75-й перцентиль: 8.0, IQR: 8.0,  Границы выбросов: [-12.0, 20.0].\n",
      "Есть выбросы: \n",
      " 40      25.0\n",
      "74      54.0\n",
      "103     26.0\n",
      "183     56.0\n",
      "198     24.0\n",
      "205     28.0\n",
      "216     22.0\n",
      "222    385.0\n",
      "260     21.0\n",
      "276     75.0\n",
      "277     22.0\n",
      "307     38.0\n",
      "315     40.0\n",
      "320     23.0\n",
      "390    212.0\n",
      "Name: absences, dtype: float64\n",
      "Отсутствующих значений(NaN): 9\n",
      "Мода: 0.0  ,  30.0 % от непустых значений\n"
     ]
    },
    {
     "data": {
      "image/png": "[encoded data removed]",
      "text/plain": [
       "<Figure size 432x288 with 1 Axes>"
      ]
     },
     "metadata": {
      "needs_background": "light"
     },
     "output_type": "display_data"
    }
   ],
   "source": [
    "column_info(stud_math.absences, absences_corr_values, 1)"
   ]
  },
  {
   "cell_type": "code",
   "execution_count": 825,
   "metadata": {},
   "outputs": [
    {
     "data": {
      "text/html": [
       "<div>\n",
       "<style scoped>\n",
       "    .dataframe tbody tr th:only-of-type {\n",
       "        vertical-align: middle;\n",
       "    }\n",
       "\n",
       "    .dataframe tbody tr th {\n",
       "        vertical-align: top;\n",
       "    }\n",
       "\n",
       "    .dataframe thead th {\n",
       "        text-align: right;\n",
       "    }\n",
       "</style>\n",
       "<table border=\"1\" class=\"dataframe\">\n",
       "  <thead>\n",
       "    <tr style=\"text-align: right;\">\n",
       "      <th></th>\n",
       "      <th>absences</th>\n",
       "      <th>score</th>\n",
       "    </tr>\n",
       "  </thead>\n",
       "  <tbody>\n",
       "    <tr>\n",
       "      <th>40</th>\n",
       "      <td>25.0</td>\n",
       "      <td>55.0</td>\n",
       "    </tr>\n",
       "    <tr>\n",
       "      <th>74</th>\n",
       "      <td>54.0</td>\n",
       "      <td>55.0</td>\n",
       "    </tr>\n",
       "    <tr>\n",
       "      <th>103</th>\n",
       "      <td>26.0</td>\n",
       "      <td>30.0</td>\n",
       "    </tr>\n",
       "    <tr>\n",
       "      <th>183</th>\n",
       "      <td>56.0</td>\n",
       "      <td>40.0</td>\n",
       "    </tr>\n",
       "    <tr>\n",
       "      <th>198</th>\n",
       "      <td>24.0</td>\n",
       "      <td>90.0</td>\n",
       "    </tr>\n",
       "    <tr>\n",
       "      <th>205</th>\n",
       "      <td>28.0</td>\n",
       "      <td>45.0</td>\n",
       "    </tr>\n",
       "    <tr>\n",
       "      <th>216</th>\n",
       "      <td>22.0</td>\n",
       "      <td>20.0</td>\n",
       "    </tr>\n",
       "    <tr>\n",
       "      <th>222</th>\n",
       "      <td>385.0</td>\n",
       "      <td>85.0</td>\n",
       "    </tr>\n",
       "    <tr>\n",
       "      <th>260</th>\n",
       "      <td>21.0</td>\n",
       "      <td>90.0</td>\n",
       "    </tr>\n",
       "    <tr>\n",
       "      <th>276</th>\n",
       "      <td>75.0</td>\n",
       "      <td>45.0</td>\n",
       "    </tr>\n",
       "    <tr>\n",
       "      <th>277</th>\n",
       "      <td>22.0</td>\n",
       "      <td>45.0</td>\n",
       "    </tr>\n",
       "    <tr>\n",
       "      <th>307</th>\n",
       "      <td>38.0</td>\n",
       "      <td>40.0</td>\n",
       "    </tr>\n",
       "    <tr>\n",
       "      <th>315</th>\n",
       "      <td>40.0</td>\n",
       "      <td>55.0</td>\n",
       "    </tr>\n",
       "    <tr>\n",
       "      <th>320</th>\n",
       "      <td>23.0</td>\n",
       "      <td>65.0</td>\n",
       "    </tr>\n",
       "    <tr>\n",
       "      <th>390</th>\n",
       "      <td>212.0</td>\n",
       "      <td>45.0</td>\n",
       "    </tr>\n",
       "  </tbody>\n",
       "</table>\n",
       "</div>"
      ],
      "text/plain": [
       "     absences  score\n",
       "40       25.0   55.0\n",
       "74       54.0   55.0\n",
       "103      26.0   30.0\n",
       "183      56.0   40.0\n",
       "198      24.0   90.0\n",
       "205      28.0   45.0\n",
       "216      22.0   20.0\n",
       "222     385.0   85.0\n",
       "260      21.0   90.0\n",
       "276      75.0   45.0\n",
       "277      22.0   45.0\n",
       "307      38.0   40.0\n",
       "315      40.0   55.0\n",
       "320      23.0   65.0\n",
       "390     212.0   45.0"
      ]
     },
     "execution_count": 825,
     "metadata": {},
     "output_type": "execute_result"
    }
   ],
   "source": [
    "stud_math[stud_math.absences > 20][['absences', 'score']]"
   ]
  },
  {
   "cell_type": "code",
   "execution_count": 826,
   "metadata": {},
   "outputs": [
    {
     "name": "stdout",
     "output_type": "stream",
     "text": [
      "Количество уникальных значений: 28\n"
     ]
    },
    {
     "data": {
      "text/plain": [
       "0.0     116\n",
       "2.0      55\n",
       "4.0      49\n",
       "6.0      27\n",
       "8.0      20\n",
       "10.0     16\n",
       "12.0     12\n",
       "14.0     10\n",
       "16.0      7\n",
       "3.0       7\n",
       "7.0       6\n",
       "18.0      5\n",
       "5.0       5\n",
       "20.0      4\n",
       "1.0       3\n",
       "9.0       3\n",
       "13.0      2\n",
       "15.0      2\n",
       "22.0      2\n",
       "11.0      1\n",
       "26.0      1\n",
       "24.0      1\n",
       "28.0      1\n",
       "25.0      1\n",
       "21.0      1\n",
       "19.0      1\n",
       "23.0      1\n",
       "17.0      1\n",
       "Name: absences, dtype: int64"
      ]
     },
     "metadata": {},
     "output_type": "display_data"
    },
    {
     "name": "stdout",
     "output_type": "stream",
     "text": [
      "Некорректных значений нет\n",
      "Отсутствующих значений(NaN) нет\n"
     ]
    },
    {
     "data": {
      "image/png": "[encoded data removed]",
      "text/plain": [
       "<Figure size 432x288 with 1 Axes>"
      ]
     },
     "metadata": {
      "needs_background": "light"
     },
     "output_type": "display_data"
    }
   ],
   "source": [
    "# Заполним пустые значения модой (т.к. 30% мода для числовой перменной достаточно, по моему мнению)\n",
    "fill_column_mode(stud_math.absences)\n",
    "# как видно количество пропусков сильно не сказалось на оценке(есть очень хорошие оценки у много пропустивших),так что, возможно,\n",
    "# это просто ученики, которые перевелись из других учреждений, и поэтому у них столько пропусков,\n",
    "# а на прежнем месте учебы могли отличаться многие показатели.\n",
    "# Распеределение левое, логически буду считать выбросом и отсекать значения > 30\n",
    "# Удаляем строки без оценки\n",
    "stud_math = stud_math[stud_math.absences <= 30]\n",
    "column_info(stud_math.absences, absences_corr_values, 0)"
   ]
  },
  {
   "cell_type": "code",
   "execution_count": 827,
   "metadata": {},
   "outputs": [],
   "source": [
    "# Посмотрим корреляции"
   ]
  },
  {
   "cell_type": "code",
   "execution_count": 828,
   "metadata": {},
   "outputs": [
    {
     "data": {
      "text/html": [
       "<div>\n",
       "<style scoped>\n",
       "    .dataframe tbody tr th:only-of-type {\n",
       "        vertical-align: middle;\n",
       "    }\n",
       "\n",
       "    .dataframe tbody tr th {\n",
       "        vertical-align: top;\n",
       "    }\n",
       "\n",
       "    .dataframe thead th {\n",
       "        text-align: right;\n",
       "    }\n",
       "</style>\n",
       "<table border=\"1\" class=\"dataframe\">\n",
       "  <thead>\n",
       "    <tr style=\"text-align: right;\">\n",
       "      <th></th>\n",
       "      <th>age</th>\n",
       "      <th>mother_education</th>\n",
       "      <th>father_education</th>\n",
       "      <th>travel_time</th>\n",
       "      <th>study_time</th>\n",
       "      <th>study_time_granular</th>\n",
       "      <th>family_relation</th>\n",
       "      <th>free_time</th>\n",
       "      <th>go_out</th>\n",
       "      <th>health</th>\n",
       "      <th>absences</th>\n",
       "      <th>score</th>\n",
       "    </tr>\n",
       "  </thead>\n",
       "  <tbody>\n",
       "    <tr>\n",
       "      <th>age</th>\n",
       "      <td>1.000000</td>\n",
       "      <td>-0.157145</td>\n",
       "      <td>-0.152498</td>\n",
       "      <td>0.081702</td>\n",
       "      <td>-0.020892</td>\n",
       "      <td>0.027000</td>\n",
       "      <td>0.028156</td>\n",
       "      <td>0.009809</td>\n",
       "      <td>0.130273</td>\n",
       "      <td>-0.042287</td>\n",
       "      <td>0.132029</td>\n",
       "      <td>-0.142156</td>\n",
       "    </tr>\n",
       "    <tr>\n",
       "      <th>mother_education</th>\n",
       "      <td>-0.157145</td>\n",
       "      <td>1.000000</td>\n",
       "      <td>0.604345</td>\n",
       "      <td>-0.170212</td>\n",
       "      <td>0.098500</td>\n",
       "      <td>-0.103779</td>\n",
       "      <td>-0.014093</td>\n",
       "      <td>0.023108</td>\n",
       "      <td>0.053668</td>\n",
       "      <td>-0.050446</td>\n",
       "      <td>0.104115</td>\n",
       "      <td>0.221554</td>\n",
       "    </tr>\n",
       "    <tr>\n",
       "      <th>father_education</th>\n",
       "      <td>-0.152498</td>\n",
       "      <td>0.604345</td>\n",
       "      <td>1.000000</td>\n",
       "      <td>-0.121990</td>\n",
       "      <td>0.004818</td>\n",
       "      <td>-0.009267</td>\n",
       "      <td>-0.015330</td>\n",
       "      <td>-0.013147</td>\n",
       "      <td>0.054160</td>\n",
       "      <td>0.033872</td>\n",
       "      <td>0.029023</td>\n",
       "      <td>0.100676</td>\n",
       "    </tr>\n",
       "    <tr>\n",
       "      <th>travel_time</th>\n",
       "      <td>0.081702</td>\n",
       "      <td>-0.170212</td>\n",
       "      <td>-0.121990</td>\n",
       "      <td>1.000000</td>\n",
       "      <td>-0.101870</td>\n",
       "      <td>0.100077</td>\n",
       "      <td>-0.035950</td>\n",
       "      <td>0.010736</td>\n",
       "      <td>0.053197</td>\n",
       "      <td>-0.041798</td>\n",
       "      <td>-0.015527</td>\n",
       "      <td>-0.059338</td>\n",
       "    </tr>\n",
       "    <tr>\n",
       "      <th>study_time</th>\n",
       "      <td>-0.020892</td>\n",
       "      <td>0.098500</td>\n",
       "      <td>0.004818</td>\n",
       "      <td>-0.101870</td>\n",
       "      <td>1.000000</td>\n",
       "      <td>-0.998106</td>\n",
       "      <td>0.048140</td>\n",
       "      <td>-0.112243</td>\n",
       "      <td>-0.035950</td>\n",
       "      <td>-0.090968</td>\n",
       "      <td>-0.062337</td>\n",
       "      <td>0.112878</td>\n",
       "    </tr>\n",
       "    <tr>\n",
       "      <th>study_time_granular</th>\n",
       "      <td>0.027000</td>\n",
       "      <td>-0.103779</td>\n",
       "      <td>-0.009267</td>\n",
       "      <td>0.100077</td>\n",
       "      <td>-0.998106</td>\n",
       "      <td>1.000000</td>\n",
       "      <td>-0.047719</td>\n",
       "      <td>0.111612</td>\n",
       "      <td>0.032781</td>\n",
       "      <td>0.089989</td>\n",
       "      <td>0.067611</td>\n",
       "      <td>-0.111278</td>\n",
       "    </tr>\n",
       "    <tr>\n",
       "      <th>family_relation</th>\n",
       "      <td>0.028156</td>\n",
       "      <td>-0.014093</td>\n",
       "      <td>-0.015330</td>\n",
       "      <td>-0.035950</td>\n",
       "      <td>0.048140</td>\n",
       "      <td>-0.047719</td>\n",
       "      <td>1.000000</td>\n",
       "      <td>0.123683</td>\n",
       "      <td>0.026439</td>\n",
       "      <td>0.049431</td>\n",
       "      <td>-0.119644</td>\n",
       "      <td>0.091639</td>\n",
       "    </tr>\n",
       "    <tr>\n",
       "      <th>free_time</th>\n",
       "      <td>0.009809</td>\n",
       "      <td>0.023108</td>\n",
       "      <td>-0.013147</td>\n",
       "      <td>0.010736</td>\n",
       "      <td>-0.112243</td>\n",
       "      <td>0.111612</td>\n",
       "      <td>0.123683</td>\n",
       "      <td>1.000000</td>\n",
       "      <td>0.236362</td>\n",
       "      <td>0.076030</td>\n",
       "      <td>0.028618</td>\n",
       "      <td>0.032179</td>\n",
       "    </tr>\n",
       "    <tr>\n",
       "      <th>go_out</th>\n",
       "      <td>0.130273</td>\n",
       "      <td>0.053668</td>\n",
       "      <td>0.054160</td>\n",
       "      <td>0.053197</td>\n",
       "      <td>-0.035950</td>\n",
       "      <td>0.032781</td>\n",
       "      <td>0.026439</td>\n",
       "      <td>0.236362</td>\n",
       "      <td>1.000000</td>\n",
       "      <td>0.019749</td>\n",
       "      <td>0.100332</td>\n",
       "      <td>-0.114154</td>\n",
       "    </tr>\n",
       "    <tr>\n",
       "      <th>health</th>\n",
       "      <td>-0.042287</td>\n",
       "      <td>-0.050446</td>\n",
       "      <td>0.033872</td>\n",
       "      <td>-0.041798</td>\n",
       "      <td>-0.090968</td>\n",
       "      <td>0.089989</td>\n",
       "      <td>0.049431</td>\n",
       "      <td>0.076030</td>\n",
       "      <td>0.019749</td>\n",
       "      <td>1.000000</td>\n",
       "      <td>-0.027599</td>\n",
       "      <td>-0.082597</td>\n",
       "    </tr>\n",
       "    <tr>\n",
       "      <th>absences</th>\n",
       "      <td>0.132029</td>\n",
       "      <td>0.104115</td>\n",
       "      <td>0.029023</td>\n",
       "      <td>-0.015527</td>\n",
       "      <td>-0.062337</td>\n",
       "      <td>0.067611</td>\n",
       "      <td>-0.119644</td>\n",
       "      <td>0.028618</td>\n",
       "      <td>0.100332</td>\n",
       "      <td>-0.027599</td>\n",
       "      <td>1.000000</td>\n",
       "      <td>0.077417</td>\n",
       "    </tr>\n",
       "    <tr>\n",
       "      <th>score</th>\n",
       "      <td>-0.142156</td>\n",
       "      <td>0.221554</td>\n",
       "      <td>0.100676</td>\n",
       "      <td>-0.059338</td>\n",
       "      <td>0.112878</td>\n",
       "      <td>-0.111278</td>\n",
       "      <td>0.091639</td>\n",
       "      <td>0.032179</td>\n",
       "      <td>-0.114154</td>\n",
       "      <td>-0.082597</td>\n",
       "      <td>0.077417</td>\n",
       "      <td>1.000000</td>\n",
       "    </tr>\n",
       "  </tbody>\n",
       "</table>\n",
       "</div>"
      ],
      "text/plain": [
       "                          age  mother_education  father_education  \\\n",
       "age                  1.000000         -0.157145         -0.152498   \n",
       "mother_education    -0.157145          1.000000          0.604345   \n",
       "father_education    -0.152498          0.604345          1.000000   \n",
       "travel_time          0.081702         -0.170212         -0.121990   \n",
       "study_time          -0.020892          0.098500          0.004818   \n",
       "study_time_granular  0.027000         -0.103779         -0.009267   \n",
       "family_relation      0.028156         -0.014093         -0.015330   \n",
       "free_time            0.009809          0.023108         -0.013147   \n",
       "go_out               0.130273          0.053668          0.054160   \n",
       "health              -0.042287         -0.050446          0.033872   \n",
       "absences             0.132029          0.104115          0.029023   \n",
       "score               -0.142156          0.221554          0.100676   \n",
       "\n",
       "                     travel_time  study_time  study_time_granular  \\\n",
       "age                     0.081702   -0.020892             0.027000   \n",
       "mother_education       -0.170212    0.098500            -0.103779   \n",
       "father_education       -0.121990    0.004818            -0.009267   \n",
       "travel_time             1.000000   -0.101870             0.100077   \n",
       "study_time             -0.101870    1.000000            -0.998106   \n",
       "study_time_granular     0.100077   -0.998106             1.000000   \n",
       "family_relation        -0.035950    0.048140            -0.047719   \n",
       "free_time               0.010736   -0.112243             0.111612   \n",
       "go_out                  0.053197   -0.035950             0.032781   \n",
       "health                 -0.041798   -0.090968             0.089989   \n",
       "absences               -0.015527   -0.062337             0.067611   \n",
       "score                  -0.059338    0.112878            -0.111278   \n",
       "\n",
       "                     family_relation  free_time    go_out    health  absences  \\\n",
       "age                         0.028156   0.009809  0.130273 -0.042287  0.132029   \n",
       "mother_education           -0.014093   0.023108  0.053668 -0.050446  0.104115   \n",
       "father_education           -0.015330  -0.013147  0.054160  0.033872  0.029023   \n",
       "travel_time                -0.035950   0.010736  0.053197 -0.041798 -0.015527   \n",
       "study_time                  0.048140  -0.112243 -0.035950 -0.090968 -0.062337   \n",
       "study_time_granular        -0.047719   0.111612  0.032781  0.089989  0.067611   \n",
       "family_relation             1.000000   0.123683  0.026439  0.049431 -0.119644   \n",
       "free_time                   0.123683   1.000000  0.236362  0.076030  0.028618   \n",
       "go_out                      0.026439   0.236362  1.000000  0.019749  0.100332   \n",
       "health                      0.049431   0.076030  0.019749  1.000000 -0.027599   \n",
       "absences                   -0.119644   0.028618  0.100332 -0.027599  1.000000   \n",
       "score                       0.091639   0.032179 -0.114154 -0.082597  0.077417   \n",
       "\n",
       "                        score  \n",
       "age                 -0.142156  \n",
       "mother_education     0.221554  \n",
       "father_education     0.100676  \n",
       "travel_time         -0.059338  \n",
       "study_time           0.112878  \n",
       "study_time_granular -0.111278  \n",
       "family_relation      0.091639  \n",
       "free_time            0.032179  \n",
       "go_out              -0.114154  \n",
       "health              -0.082597  \n",
       "absences             0.077417  \n",
       "score                1.000000  "
      ]
     },
     "execution_count": 828,
     "metadata": {},
     "output_type": "execute_result"
    }
   ],
   "source": [
    "stud_math.corr()"
   ]
  },
  {
   "cell_type": "code",
   "execution_count": 829,
   "metadata": {},
   "outputs": [],
   "source": [
    "# Переменные study_time и study_time_granular обратно скоррелированы почти полностью, удаляем переменную study_time_granular\n",
    "del stud_math['study_time_granular']"
   ]
  },
  {
   "cell_type": "code",
   "execution_count": 830,
   "metadata": {},
   "outputs": [],
   "source": [
    "# Самая большая корреляция оценки с образованием матери, говорит о том ,\n",
    "# что образованные матери уделяют больше времени развитию ребенка, благодаря чему он лучше успевает.\n",
    "# Самая большая отрицательная корелляция с возрастом, что говорит о том, что с возрастом ученики теряют интерес к учебе."
   ]
  },
  {
   "cell_type": "code",
   "execution_count": 831,
   "metadata": {},
   "outputs": [],
   "source": [
    "# качественные поля\n",
    "categorical_variable = ['school', 'sex', 'address', 'family_size', 'parent_status', 'mother_job', 'father_job', 'reason', 'guardian',\n",
    "                        'school_support', 'family_support', 'paid', 'activities', 'nursery', 'higher', 'internet', 'romantic']"
   ]
  },
  {
   "cell_type": "code",
   "execution_count": 832,
   "metadata": {},
   "outputs": [
    {
     "data": {
      "image/png": "[encoded data removed]",
      "text/plain": [
       "<Figure size 1008x288 with 1 Axes>"
      ]
     },
     "metadata": {
      "needs_background": "light"
     },
     "output_type": "display_data"
    },
    {
     "data": {
      "image/png": "[encoded data removed]",
      "text/plain": [
       "<Figure size 1008x288 with 1 Axes>"
      ]
     },
     "metadata": {
      "needs_background": "light"
     },
     "output_type": "display_data"
    },
    {
     "data": {
      "image/png": "[encoded data removed]",
      "text/plain": [
       "<Figure size 1008x288 with 1 Axes>"
      ]
     },
     "metadata": {
      "needs_background": "light"
     },
     "output_type": "display_data"
    },
    {
     "data": {
      "image/png": "[encoded data removed]",
      "text/plain": [
       "<Figure size 1008x288 with 1 Axes>"
      ]
     },
     "metadata": {
      "needs_background": "light"
     },
     "output_type": "display_data"
    },
    {
     "data": {
      "image/png": "[encoded data removed]",
      "text/plain": [
       "<Figure size 1008x288 with 1 Axes>"
      ]
     },
     "metadata": {
      "needs_background": "light"
     },
     "output_type": "display_data"
    },
    {
     "data": {
      "image/png": "[encoded data removed]",
      "text/plain": [
       "<Figure size 1008x288 with 1 Axes>"
      ]
     },
     "metadata": {
      "needs_background": "light"
     },
     "output_type": "display_data"
    },
    {
     "data": {
      "image/png": "[encoded data removed]",
      "text/plain": [
       "<Figure size 1008x288 with 1 Axes>"
      ]
     },
     "metadata": {
      "needs_background": "light"
     },
     "output_type": "display_data"
    },
    {
     "data": {
      "image/png": "[encoded data removed]",
      "text/plain": [
       "<Figure size 1008x288 with 1 Axes>"
      ]
     },
     "metadata": {
      "needs_background": "light"
     },
     "output_type": "display_data"
    },
    {
     "data": {
      "image/png": "[encoded data removed]",
      "text/plain": [
       "<Figure size 1008x288 with 1 Axes>"
      ]
     },
     "metadata": {
      "needs_background": "light"
     },
     "output_type": "display_data"
    },
    {
     "data": {
      "image/png": "[encoded data removed]",
      "text/plain": [
       "<Figure size 1008x288 with 1 Axes>"
      ]
     },
     "metadata": {
      "needs_background": "light"
     },
     "output_type": "display_data"
    },
    {
     "data": {
      "image/png": "[encoded data removed]",
      "text/plain": [
       "<Figure size 1008x288 with 1 Axes>"
      ]
     },
     "metadata": {
      "needs_background": "light"
     },
     "output_type": "display_data"
    },
    {
     "data": {
      "image/png": "[encoded data removed]",
      "text/plain": [
       "<Figure size 1008x288 with 1 Axes>"
      ]
     },
     "metadata": {
      "needs_background": "light"
     },
     "output_type": "display_data"
    },
    {
     "data": {
      "image/png": "[encoded data removed]",
      "text/plain": [
       "<Figure size 1008x288 with 1 Axes>"
      ]
     },
     "metadata": {
      "needs_background": "light"
     },
     "output_type": "display_data"
    },
    {
     "data": {
      "image/png": "[encoded data removed]",
      "text/plain": [
       "<Figure size 1008x288 with 1 Axes>"
      ]
     },
     "metadata": {
      "needs_background": "light"
     },
     "output_type": "display_data"
    },
    {
     "data": {
      "image/png": "[encoded data removed]",
      "text/plain": [
       "<Figure size 1008x288 with 1 Axes>"
      ]
     },
     "metadata": {
      "needs_background": "light"
     },
     "output_type": "display_data"
    },
    {
     "data": {
      "image/png": "[encoded data removed]",
      "text/plain": [
       "<Figure size 1008x288 with 1 Axes>"
      ]
     },
     "metadata": {
      "needs_background": "light"
     },
     "output_type": "display_data"
    },
    {
     "data": {
      "image/png": "[encoded data removed]",
      "text/plain": [
       "<Figure size 1008x288 with 1 Axes>"
      ]
     },
     "metadata": {
      "needs_background": "light"
     },
     "output_type": "display_data"
    }
   ],
   "source": [
    "for col in categorical_variable:\n",
    "    get_boxplot(col)"
   ]
  },
  {
   "cell_type": "code",
   "execution_count": 833,
   "metadata": {},
   "outputs": [],
   "source": [
    "# Найдем статистически значимые различия для качественных полей"
   ]
  },
  {
   "cell_type": "code",
   "execution_count": 834,
   "metadata": {},
   "outputs": [
    {
     "name": "stdout",
     "output_type": "stream",
     "text": [
      "Найдены статистически значимые различия для колонки sex\n",
      "Найдены статистически значимые различия для колонки address\n",
      "Найдены статистически значимые различия для колонки school_support\n",
      "Найдены статистически значимые различия для колонки higher\n",
      "Найдены статистически значимые различия для колонки romantic\n"
     ]
    }
   ],
   "source": [
    "for col in categorical_variable:\n",
    "    get_stat_dif(col)"
   ]
  },
  {
   "cell_type": "code",
   "execution_count": 835,
   "metadata": {},
   "outputs": [],
   "source": [
    "# ранговые поля\n",
    "rank_variable = ['mother_education', 'father_education', 'travel_time', 'study_time', 'family_relation',\n",
    "                 'free_time', 'go_out', 'health']"
   ]
  },
  {
   "cell_type": "code",
   "execution_count": 836,
   "metadata": {},
   "outputs": [
    {
     "data": {
      "image/png": "[encoded data removed]",
      "text/plain": [
       "<Figure size 1008x288 with 1 Axes>"
      ]
     },
     "metadata": {
      "needs_background": "light"
     },
     "output_type": "display_data"
    },
    {
     "data": {
      "image/png": "[encoded data removed]",
      "text/plain": [
       "<Figure size 1008x288 with 1 Axes>"
      ]
     },
     "metadata": {
      "needs_background": "light"
     },
     "output_type": "display_data"
    },
    {
     "data": {
      "image/png": "[encoded data removed]",
      "text/plain": [
       "<Figure size 1008x288 with 1 Axes>"
      ]
     },
     "metadata": {
      "needs_background": "light"
     },
     "output_type": "display_data"
    },
    {
     "data": {
      "image/png": "[encoded data removed]",
      "text/plain": [
       "<Figure size 1008x288 with 1 Axes>"
      ]
     },
     "metadata": {
      "needs_background": "light"
     },
     "output_type": "display_data"
    },
    {
     "data": {
      "image/png": "[encoded data removed]",
      "text/plain": [
       "<Figure size 1008x288 with 1 Axes>"
      ]
     },
     "metadata": {
      "needs_background": "light"
     },
     "output_type": "display_data"
    },
    {
     "data": {
      "image/png": "[encoded data removed]",
      "text/plain": [
       "<Figure size 1008x288 with 1 Axes>"
      ]
     },
     "metadata": {
      "needs_background": "light"
     },
     "output_type": "display_data"
    },
    {
     "data": {
      "image/png": "[encoded data removed]",
      "text/plain": [
       "<Figure size 1008x288 with 1 Axes>"
      ]
     },
     "metadata": {
      "needs_background": "light"
     },
     "output_type": "display_data"
    },
    {
     "data": {
      "image/png": "[encoded data removed]",
      "text/plain": [
       "<Figure size 1008x288 with 1 Axes>"
      ]
     },
     "metadata": {
      "needs_background": "light"
     },
     "output_type": "display_data"
    }
   ],
   "source": [
    "for col in rank_variable:\n",
    "    get_boxplot(col)"
   ]
  },
  {
   "cell_type": "code",
   "execution_count": 837,
   "metadata": {},
   "outputs": [],
   "source": [
    "# По ранговым перменным решил тоже опираться не на корреляцию, а на анализ статистически значимых различий\n",
    "# Найдем статистически значимые различия для ранговых полей"
   ]
  },
  {
   "cell_type": "code",
   "execution_count": 838,
   "metadata": {},
   "outputs": [
    {
     "name": "stdout",
     "output_type": "stream",
     "text": [
      "Найдены статистически значимые различия для колонки mother_education\n",
      "Найдены статистически значимые различия для колонки go_out\n"
     ]
    }
   ],
   "source": [
    "for col in rank_variable:\n",
    "    get_stat_dif(col)"
   ]
  },
  {
   "cell_type": "code",
   "execution_count": null,
   "metadata": {},
   "outputs": [],
   "source": [
    "\"\"\"\n",
    "Итоги:\n",
    "В данных есть пустые значения, особенно много их в столбцах parent_status, family_support и paid.\n",
    "Выбросы найдены в столбце absences, в столбце age я не счел значение выбросом и не стал его удалять. \n",
    "Так же найдены некорректные данные в столбцах father_education и family_relation. В целом считаю, что данные достаточно чистые.\n",
    "Так же в данных присутствовал столбец failures, который сам по себе противоречив, и был удален.\n",
    "Самая большая корреляция оценки с образованием матери, говорит о том , что образованные матери уделяют больше времени развитию ребенка, благодаря чему он лучше успевает.\n",
    "Самая большая отрицательная корелляция с возрастом, что говорит о том, что с возрастом ученики теряют интерес к учебе.\n",
    "Самые важные параметры, которые предлагается использовать в дальнейшем для построения модели, это \n",
    "age\n",
    "absences\n",
    "sex\n",
    "address\n",
    "mother_job\n",
    "school_support\n",
    "higher\n",
    "romantic\n",
    "mother_education\n",
    "go_out\n",
    "\"\"\""
   ]
  }
 ],
 "metadata": {
  "kernelspec": {
   "display_name": "Python 3",
   "language": "python",
   "name": "python3"
  },
  "language_info": {
   "codemirror_mode": {
    "name": "ipython",
    "version": 3
   },
   "file_extension": ".py",
   "mimetype": "text/x-python",
   "name": "python",
   "nbconvert_exporter": "python",
   "pygments_lexer": "ipython3",
   "version": "3.8.3"
  }
 },
 "nbformat": 4,
 "nbformat_minor": 4
}
