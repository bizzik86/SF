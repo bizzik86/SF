{
 "cells": [
  {
   "cell_type": "code",
   "execution_count": 1,
   "metadata": {},
   "outputs": [
    {
     "name": "stdout",
     "output_type": "stream",
     "text": [
      "Ваш алгоритм угадывает число в среднем за 5 попыток\n"
     ]
    },
    {
     "data": {
      "text/plain": [
       "5"
      ]
     },
     "execution_count": 1,
     "metadata": {},
     "output_type": "execute_result"
    }
   ],
   "source": [
    "import numpy as np\n",
    "from math import *\n",
    "\n",
    "\n",
    "def game_core(number, min_limit=1, max_limit=100):\n",
    "\t'''Function binary search.\n",
    "\tEach iteration the number is compared with the predict. Depending on the\n",
    "\tcomparison result, the minimum or maximum limit is assigned a predict\n",
    "\tvalue. For correct processing of cases when the difference between maximum\n",
    "\tand minimum limit is 1(for example: number = 1, min_limit=1, current\n",
    "\tpredict and max_limit=2), different rounding functions are used depending\n",
    "\ton the comparison result.'''\n",
    "\tpredict = round((max_limit-min_limit) / 2)  # initial predict\n",
    "\tcount = 1\n",
    "\twhile number != predict:\n",
    "\t\tif number > predict:\n",
    "\t\t\tmin_limit = predict\n",
    "\t\t\tpredict = ceil((max_limit+min_limit) / 2)\n",
    "\t\telif number < predict:\n",
    "\t\t\tmax_limit = predict\n",
    "\t\t\tpredict = floor((max_limit+min_limit) / 2)\n",
    "\t\tcount += 1\n",
    "\treturn(count)\n",
    "\n",
    "\n",
    "def score_game(game_core, min_limit=1, max_limit=100):\n",
    "\t'''function for collecting statistics'''\n",
    "\tcount_ls = []\n",
    "\tnp.random.seed(1)\n",
    "\trandom_array = np.random.randint(min_limit, max_limit+1, size=(1000))\n",
    "\tfor number in random_array:\n",
    "\t\tcount_ls.append(game_core(number, min_limit, max_limit))\n",
    "\tscore = int(np.mean(count_ls))\n",
    "\tprint(f\"Ваш алгоритм угадывает число в среднем за {score} попыток\")\n",
    "\treturn(score)\n",
    "\n",
    "\n",
    "score_game(game_core)\n"
   ]
  },
  {
   "cell_type": "code",
   "execution_count": null,
   "metadata": {},
   "outputs": [],
   "source": []
  }
 ],
 "metadata": {
  "kernelspec": {
   "display_name": "Python 3",
   "language": "python",
   "name": "python3"
  },
  "language_info": {
   "codemirror_mode": {
    "name": "ipython",
    "version": 3
   },
   "file_extension": ".py",
   "mimetype": "text/x-python",
   "name": "python",
   "nbconvert_exporter": "python",
   "pygments_lexer": "ipython3",
   "version": "3.8.3"
  }
 },
 "nbformat": 4,
 "nbformat_minor": 4
}
